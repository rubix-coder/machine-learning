{
 "cells": [
  {
   "cell_type": "code",
   "execution_count": 1,
   "metadata": {
    "execution": {
     "iopub.execute_input": "2021-06-12T07:20:06.441274Z",
     "iopub.status.busy": "2021-06-12T07:20:06.441274Z",
     "iopub.status.idle": "2021-06-12T07:20:06.456276Z",
     "shell.execute_reply": "2021-06-12T07:20:06.456276Z",
     "shell.execute_reply.started": "2021-06-12T07:20:06.441274Z"
    }
   },
   "outputs": [],
   "source": [
    "# !pip install pycaret"
   ]
  },
  {
   "cell_type": "code",
   "execution_count": 2,
   "metadata": {
    "execution": {
     "iopub.execute_input": "2021-06-12T07:20:06.457276Z",
     "iopub.status.busy": "2021-06-12T07:20:06.457276Z",
     "iopub.status.idle": "2021-06-12T07:20:06.473280Z",
     "shell.execute_reply": "2021-06-12T07:20:06.472280Z",
     "shell.execute_reply.started": "2021-06-12T07:20:06.457276Z"
    }
   },
   "outputs": [
    {
     "name": "stdout",
     "output_type": "stream",
     "text": [
      "D:\\GitHub\\machine-learning\\mlops\\Alumni-Sessions-main\\Alumni-Sessions-main\\MLOps\\Session01\\project\\mlops_experiment\n"
     ]
    }
   ],
   "source": [
    "%cd D:/GitHub/machine-learning/mlops/Alumni-Sessions-main/Alumni-Sessions-main/MLOps/Session01/project/mlops_experiment/"
   ]
  },
  {
   "cell_type": "code",
   "execution_count": 3,
   "metadata": {
    "execution": {
     "iopub.execute_input": "2021-06-12T07:20:06.474281Z",
     "iopub.status.busy": "2021-06-12T07:20:06.474281Z",
     "iopub.status.idle": "2021-06-12T07:20:22.829511Z",
     "shell.execute_reply": "2021-06-12T07:20:22.829511Z",
     "shell.execute_reply.started": "2021-06-12T07:20:06.474281Z"
    }
   },
   "outputs": [],
   "source": [
    "from src.features import helper_features"
   ]
  },
  {
   "cell_type": "code",
   "execution_count": 4,
   "metadata": {
    "execution": {
     "iopub.execute_input": "2021-06-12T07:20:22.830512Z",
     "iopub.status.busy": "2021-06-12T07:20:22.830512Z",
     "iopub.status.idle": "2021-06-12T07:20:22.844514Z",
     "shell.execute_reply": "2021-06-12T07:20:22.844514Z",
     "shell.execute_reply.started": "2021-06-12T07:20:22.830512Z"
    }
   },
   "outputs": [],
   "source": [
    "import pandas as pd"
   ]
  },
  {
   "cell_type": "code",
   "execution_count": 5,
   "metadata": {
    "execution": {
     "iopub.execute_input": "2021-06-12T07:20:22.845515Z",
     "iopub.status.busy": "2021-06-12T07:20:22.845515Z",
     "iopub.status.idle": "2021-06-12T07:20:23.365962Z",
     "shell.execute_reply": "2021-06-12T07:20:23.363962Z",
     "shell.execute_reply.started": "2021-06-12T07:20:22.845515Z"
    }
   },
   "outputs": [
    {
     "ename": "FileNotFoundError",
     "evalue": "[Errno 2] No such file or directory: '/Users/lavi/Documents/Consulting Work/Upgrad/Alumni Sessions/MLOps/Session01/project/mlops_experiment/data/raw/WA_Fn-UseC_-Telco-Customer-Churn.csv'",
     "output_type": "error",
     "traceback": [
      "\u001b[1;31m---------------------------------------------------------------------------\u001b[0m",
      "\u001b[1;31mFileNotFoundError\u001b[0m                         Traceback (most recent call last)",
      "\u001b[1;32m<ipython-input-5-c09c27be01c7>\u001b[0m in \u001b[0;36m<module>\u001b[1;34m\u001b[0m\n\u001b[0;32m      1\u001b[0m \u001b[0mdata_path\u001b[0m \u001b[1;33m=\u001b[0m \u001b[1;34m\"/Users/lavi/Documents/Consulting Work/Upgrad/Alumni Sessions/MLOps/Session01/project/mlops_experiment/data/raw/\"\u001b[0m\u001b[1;33m\u001b[0m\u001b[1;33m\u001b[0m\u001b[0m\n\u001b[1;32m----> 2\u001b[1;33m \u001b[0mdataset\u001b[0m \u001b[1;33m=\u001b[0m \u001b[0mpd\u001b[0m\u001b[1;33m.\u001b[0m\u001b[0mread_csv\u001b[0m\u001b[1;33m(\u001b[0m\u001b[0mdata_path\u001b[0m\u001b[1;33m+\u001b[0m\u001b[1;34m\"WA_Fn-UseC_-Telco-Customer-Churn.csv\"\u001b[0m\u001b[1;33m)\u001b[0m\u001b[1;33m\u001b[0m\u001b[1;33m\u001b[0m\u001b[0m\n\u001b[0m\u001b[0;32m      3\u001b[0m \u001b[0mdataset\u001b[0m\u001b[1;33m.\u001b[0m\u001b[0mhead\u001b[0m\u001b[1;33m(\u001b[0m\u001b[1;36m3\u001b[0m\u001b[1;33m)\u001b[0m\u001b[1;33m\u001b[0m\u001b[1;33m\u001b[0m\u001b[0m\n",
      "\u001b[1;32m~\\anaconda3\\lib\\site-packages\\pandas\\io\\parsers.py\u001b[0m in \u001b[0;36mread_csv\u001b[1;34m(filepath_or_buffer, sep, delimiter, header, names, index_col, usecols, squeeze, prefix, mangle_dupe_cols, dtype, engine, converters, true_values, false_values, skipinitialspace, skiprows, skipfooter, nrows, na_values, keep_default_na, na_filter, verbose, skip_blank_lines, parse_dates, infer_datetime_format, keep_date_col, date_parser, dayfirst, cache_dates, iterator, chunksize, compression, thousands, decimal, lineterminator, quotechar, quoting, doublequote, escapechar, comment, encoding, dialect, error_bad_lines, warn_bad_lines, delim_whitespace, low_memory, memory_map, float_precision)\u001b[0m\n\u001b[0;32m    684\u001b[0m     )\n\u001b[0;32m    685\u001b[0m \u001b[1;33m\u001b[0m\u001b[0m\n\u001b[1;32m--> 686\u001b[1;33m     \u001b[1;32mreturn\u001b[0m \u001b[0m_read\u001b[0m\u001b[1;33m(\u001b[0m\u001b[0mfilepath_or_buffer\u001b[0m\u001b[1;33m,\u001b[0m \u001b[0mkwds\u001b[0m\u001b[1;33m)\u001b[0m\u001b[1;33m\u001b[0m\u001b[1;33m\u001b[0m\u001b[0m\n\u001b[0m\u001b[0;32m    687\u001b[0m \u001b[1;33m\u001b[0m\u001b[0m\n\u001b[0;32m    688\u001b[0m \u001b[1;33m\u001b[0m\u001b[0m\n",
      "\u001b[1;32m~\\anaconda3\\lib\\site-packages\\pandas\\io\\parsers.py\u001b[0m in \u001b[0;36m_read\u001b[1;34m(filepath_or_buffer, kwds)\u001b[0m\n\u001b[0;32m    450\u001b[0m \u001b[1;33m\u001b[0m\u001b[0m\n\u001b[0;32m    451\u001b[0m     \u001b[1;31m# Create the parser.\u001b[0m\u001b[1;33m\u001b[0m\u001b[1;33m\u001b[0m\u001b[1;33m\u001b[0m\u001b[0m\n\u001b[1;32m--> 452\u001b[1;33m     \u001b[0mparser\u001b[0m \u001b[1;33m=\u001b[0m \u001b[0mTextFileReader\u001b[0m\u001b[1;33m(\u001b[0m\u001b[0mfp_or_buf\u001b[0m\u001b[1;33m,\u001b[0m \u001b[1;33m**\u001b[0m\u001b[0mkwds\u001b[0m\u001b[1;33m)\u001b[0m\u001b[1;33m\u001b[0m\u001b[1;33m\u001b[0m\u001b[0m\n\u001b[0m\u001b[0;32m    453\u001b[0m \u001b[1;33m\u001b[0m\u001b[0m\n\u001b[0;32m    454\u001b[0m     \u001b[1;32mif\u001b[0m \u001b[0mchunksize\u001b[0m \u001b[1;32mor\u001b[0m \u001b[0miterator\u001b[0m\u001b[1;33m:\u001b[0m\u001b[1;33m\u001b[0m\u001b[1;33m\u001b[0m\u001b[0m\n",
      "\u001b[1;32m~\\anaconda3\\lib\\site-packages\\pandas\\io\\parsers.py\u001b[0m in \u001b[0;36m__init__\u001b[1;34m(self, f, engine, **kwds)\u001b[0m\n\u001b[0;32m    944\u001b[0m             \u001b[0mself\u001b[0m\u001b[1;33m.\u001b[0m\u001b[0moptions\u001b[0m\u001b[1;33m[\u001b[0m\u001b[1;34m\"has_index_names\"\u001b[0m\u001b[1;33m]\u001b[0m \u001b[1;33m=\u001b[0m \u001b[0mkwds\u001b[0m\u001b[1;33m[\u001b[0m\u001b[1;34m\"has_index_names\"\u001b[0m\u001b[1;33m]\u001b[0m\u001b[1;33m\u001b[0m\u001b[1;33m\u001b[0m\u001b[0m\n\u001b[0;32m    945\u001b[0m \u001b[1;33m\u001b[0m\u001b[0m\n\u001b[1;32m--> 946\u001b[1;33m         \u001b[0mself\u001b[0m\u001b[1;33m.\u001b[0m\u001b[0m_make_engine\u001b[0m\u001b[1;33m(\u001b[0m\u001b[0mself\u001b[0m\u001b[1;33m.\u001b[0m\u001b[0mengine\u001b[0m\u001b[1;33m)\u001b[0m\u001b[1;33m\u001b[0m\u001b[1;33m\u001b[0m\u001b[0m\n\u001b[0m\u001b[0;32m    947\u001b[0m \u001b[1;33m\u001b[0m\u001b[0m\n\u001b[0;32m    948\u001b[0m     \u001b[1;32mdef\u001b[0m \u001b[0mclose\u001b[0m\u001b[1;33m(\u001b[0m\u001b[0mself\u001b[0m\u001b[1;33m)\u001b[0m\u001b[1;33m:\u001b[0m\u001b[1;33m\u001b[0m\u001b[1;33m\u001b[0m\u001b[0m\n",
      "\u001b[1;32m~\\anaconda3\\lib\\site-packages\\pandas\\io\\parsers.py\u001b[0m in \u001b[0;36m_make_engine\u001b[1;34m(self, engine)\u001b[0m\n\u001b[0;32m   1176\u001b[0m     \u001b[1;32mdef\u001b[0m \u001b[0m_make_engine\u001b[0m\u001b[1;33m(\u001b[0m\u001b[0mself\u001b[0m\u001b[1;33m,\u001b[0m \u001b[0mengine\u001b[0m\u001b[1;33m=\u001b[0m\u001b[1;34m\"c\"\u001b[0m\u001b[1;33m)\u001b[0m\u001b[1;33m:\u001b[0m\u001b[1;33m\u001b[0m\u001b[1;33m\u001b[0m\u001b[0m\n\u001b[0;32m   1177\u001b[0m         \u001b[1;32mif\u001b[0m \u001b[0mengine\u001b[0m \u001b[1;33m==\u001b[0m \u001b[1;34m\"c\"\u001b[0m\u001b[1;33m:\u001b[0m\u001b[1;33m\u001b[0m\u001b[1;33m\u001b[0m\u001b[0m\n\u001b[1;32m-> 1178\u001b[1;33m             \u001b[0mself\u001b[0m\u001b[1;33m.\u001b[0m\u001b[0m_engine\u001b[0m \u001b[1;33m=\u001b[0m \u001b[0mCParserWrapper\u001b[0m\u001b[1;33m(\u001b[0m\u001b[0mself\u001b[0m\u001b[1;33m.\u001b[0m\u001b[0mf\u001b[0m\u001b[1;33m,\u001b[0m \u001b[1;33m**\u001b[0m\u001b[0mself\u001b[0m\u001b[1;33m.\u001b[0m\u001b[0moptions\u001b[0m\u001b[1;33m)\u001b[0m\u001b[1;33m\u001b[0m\u001b[1;33m\u001b[0m\u001b[0m\n\u001b[0m\u001b[0;32m   1179\u001b[0m         \u001b[1;32melse\u001b[0m\u001b[1;33m:\u001b[0m\u001b[1;33m\u001b[0m\u001b[1;33m\u001b[0m\u001b[0m\n\u001b[0;32m   1180\u001b[0m             \u001b[1;32mif\u001b[0m \u001b[0mengine\u001b[0m \u001b[1;33m==\u001b[0m \u001b[1;34m\"python\"\u001b[0m\u001b[1;33m:\u001b[0m\u001b[1;33m\u001b[0m\u001b[1;33m\u001b[0m\u001b[0m\n",
      "\u001b[1;32m~\\anaconda3\\lib\\site-packages\\pandas\\io\\parsers.py\u001b[0m in \u001b[0;36m__init__\u001b[1;34m(self, src, **kwds)\u001b[0m\n\u001b[0;32m   2006\u001b[0m         \u001b[0mkwds\u001b[0m\u001b[1;33m[\u001b[0m\u001b[1;34m\"usecols\"\u001b[0m\u001b[1;33m]\u001b[0m \u001b[1;33m=\u001b[0m \u001b[0mself\u001b[0m\u001b[1;33m.\u001b[0m\u001b[0musecols\u001b[0m\u001b[1;33m\u001b[0m\u001b[1;33m\u001b[0m\u001b[0m\n\u001b[0;32m   2007\u001b[0m \u001b[1;33m\u001b[0m\u001b[0m\n\u001b[1;32m-> 2008\u001b[1;33m         \u001b[0mself\u001b[0m\u001b[1;33m.\u001b[0m\u001b[0m_reader\u001b[0m \u001b[1;33m=\u001b[0m \u001b[0mparsers\u001b[0m\u001b[1;33m.\u001b[0m\u001b[0mTextReader\u001b[0m\u001b[1;33m(\u001b[0m\u001b[0msrc\u001b[0m\u001b[1;33m,\u001b[0m \u001b[1;33m**\u001b[0m\u001b[0mkwds\u001b[0m\u001b[1;33m)\u001b[0m\u001b[1;33m\u001b[0m\u001b[1;33m\u001b[0m\u001b[0m\n\u001b[0m\u001b[0;32m   2009\u001b[0m         \u001b[0mself\u001b[0m\u001b[1;33m.\u001b[0m\u001b[0munnamed_cols\u001b[0m \u001b[1;33m=\u001b[0m \u001b[0mself\u001b[0m\u001b[1;33m.\u001b[0m\u001b[0m_reader\u001b[0m\u001b[1;33m.\u001b[0m\u001b[0munnamed_cols\u001b[0m\u001b[1;33m\u001b[0m\u001b[1;33m\u001b[0m\u001b[0m\n\u001b[0;32m   2010\u001b[0m \u001b[1;33m\u001b[0m\u001b[0m\n",
      "\u001b[1;32mpandas\\_libs\\parsers.pyx\u001b[0m in \u001b[0;36mpandas._libs.parsers.TextReader.__cinit__\u001b[1;34m()\u001b[0m\n",
      "\u001b[1;32mpandas\\_libs\\parsers.pyx\u001b[0m in \u001b[0;36mpandas._libs.parsers.TextReader._setup_parser_source\u001b[1;34m()\u001b[0m\n",
      "\u001b[1;31mFileNotFoundError\u001b[0m: [Errno 2] No such file or directory: '/Users/lavi/Documents/Consulting Work/Upgrad/Alumni Sessions/MLOps/Session01/project/mlops_experiment/data/raw/WA_Fn-UseC_-Telco-Customer-Churn.csv'"
     ]
    }
   ],
   "source": [
    "data_path = \"/Users/lavi/Documents/Consulting Work/Upgrad/Alumni Sessions/MLOps/Session01/project/mlops_experiment/data/raw/\"\n",
    "dataset = pd.read_csv(data_path+\"WA_Fn-UseC_-Telco-Customer-Churn.csv\")\n",
    "dataset.head(3)"
   ]
  },
  {
   "cell_type": "code",
   "execution_count": null,
   "metadata": {
    "execution": {
     "iopub.status.busy": "2021-06-12T07:20:23.366964Z",
     "iopub.status.idle": "2021-06-12T07:20:23.366964Z"
    }
   },
   "outputs": [],
   "source": [
    "import pandas as pd\n",
    "from pandas_profiling import ProfileReport\n",
    "profile = ProfileReport(dataset, title=\"Pandas Profiling Report\", explorative=True)"
   ]
  },
  {
   "cell_type": "code",
   "execution_count": null,
   "metadata": {
    "execution": {
     "iopub.status.busy": "2021-06-12T07:20:23.367963Z",
     "iopub.status.idle": "2021-06-12T07:20:23.367963Z"
    }
   },
   "outputs": [],
   "source": [
    "report_path = \"/Users/lavi/Documents/Consulting Work/Upgrad/Alumni Sessions/MLOps/Session01/project/mlops_experiment/reports/\"\n",
    "profile.to_file(report_path+\"data_report_01.html\")"
   ]
  },
  {
   "cell_type": "code",
   "execution_count": null,
   "metadata": {
    "execution": {
     "iopub.status.busy": "2021-06-12T07:20:23.367963Z",
     "iopub.status.idle": "2021-06-12T07:20:23.367963Z"
    }
   },
   "outputs": [],
   "source": [
    "helper_features.dataset_info(dataset, \"customers\")"
   ]
  },
  {
   "cell_type": "code",
   "execution_count": null,
   "metadata": {
    "execution": {
     "iopub.status.busy": "2021-06-12T07:20:23.368981Z",
     "iopub.status.idle": "2021-06-12T07:20:23.369492Z"
    }
   },
   "outputs": [],
   "source": [
    "helper_features.pie_plot(dataset[\"Churn\"].value_counts(), plot_title=\"<b>Client Churn Distribution<b>\")"
   ]
  },
  {
   "cell_type": "code",
   "execution_count": null,
   "metadata": {
    "execution": {
     "iopub.status.busy": "2021-06-12T07:20:23.369492Z",
     "iopub.status.idle": "2021-06-12T07:20:23.369492Z"
    }
   },
   "outputs": [],
   "source": [
    "df_aux = dataset.query('Churn == \"Yes\"')\n",
    "df_aux = df_aux[\"Contract\"].value_counts()\n",
    "helper_features.bar_plot(df_aux, \"<b>Contract Types of Churned Clients</b>\", \"<i>Contract</i>\", \"<i>Count</i>\")"
   ]
  },
  {
   "cell_type": "code",
   "execution_count": null,
   "metadata": {
    "execution": {
     "iopub.status.busy": "2021-06-12T07:20:23.370487Z",
     "iopub.status.idle": "2021-06-12T07:20:23.370487Z"
    }
   },
   "outputs": [],
   "source": [
    "df_aux = dataset.query('(Contract == \"Month-to-month\") and (Churn == \"No\")')\n",
    "helper_features.histogram_subplot(df_aux, df_aux, \"MonthlyCharges\", \"TotalCharges\", \"<b>Charges Distribution for Month-to-month contracts for not Churned Clients</b>\",\n",
    "                \"(a) Monthtly Charges Distribution\", \"(b) Total Charges Distribution\")"
   ]
  },
  {
   "cell_type": "code",
   "execution_count": null,
   "metadata": {
    "execution": {
     "iopub.status.busy": "2021-06-12T07:20:23.370487Z",
     "iopub.status.idle": "2021-06-12T07:20:23.371488Z"
    }
   },
   "outputs": [],
   "source": [
    "df_aux = dataset.query('(Contract == \"Month-to-month\") and (Churn == \"Yes\")')\n",
    "helper_features.histogram_subplot(df_aux, df_aux, \"MonthlyCharges\", \"TotalCharges\", \"<b>Charges Distribution for Month-to-month contracts for Churned Clients</b>\",\n",
    "                \"(a) Monthtly Charges Distribution\", \"(b) Total Charges Distribution\")"
   ]
  },
  {
   "cell_type": "code",
   "execution_count": null,
   "metadata": {
    "execution": {
     "iopub.status.busy": "2021-06-12T07:20:23.371488Z",
     "iopub.status.idle": "2021-06-12T07:20:23.371488Z"
    }
   },
   "outputs": [],
   "source": [
    "df_aux = dataset.query(('Contract == Month-to-month') and ('Churn == \"Yes\"'))\n",
    "df_aux = df_aux[\"PaymentMethod\"].value_counts()\n",
    "helper_features.bar_plot(df_aux, \"<b>Payment Method of Month-to-month contract Churned Clients</b>\", \"<i>Payment Method</i>\", \"<i>Count</i>\")"
   ]
  },
  {
   "cell_type": "code",
   "execution_count": null,
   "metadata": {
    "execution": {
     "iopub.status.busy": "2021-06-12T07:20:23.372488Z",
     "iopub.status.idle": "2021-06-12T07:20:23.372488Z"
    }
   },
   "outputs": [],
   "source": [
    "df_aux = dataset.query(('Contract == Month-to-month') and ('Churn == \"Yes\"'))\n",
    "df_aux = df_aux[\"tenure\"].value_counts().head(5)\n",
    "helper_features.bar_plot(df_aux, \"<b>Tenure of Month-to-month contract for Churned Clients</b>\", \"<i>Tenure</i>\", \"<i>Count</i>\")"
   ]
  },
  {
   "cell_type": "code",
   "execution_count": null,
   "metadata": {
    "execution": {
     "iopub.status.busy": "2021-06-12T07:20:23.372488Z",
     "iopub.status.idle": "2021-06-12T07:20:23.372488Z"
    }
   },
   "outputs": [],
   "source": [
    "dataset['tenure'] = dataset['tenure'].astype(float)\n",
    "dataset['MonthlyCharges'] = dataset['MonthlyCharges'].astype(float)\n",
    "dataset['TotalCharges'] = pd.to_numeric(dataset['TotalCharges'],errors='coerce')"
   ]
  },
  {
   "cell_type": "code",
   "execution_count": null,
   "metadata": {
    "execution": {
     "iopub.status.busy": "2021-06-12T07:20:23.373487Z",
     "iopub.status.idle": "2021-06-12T07:20:23.373487Z"
    }
   },
   "outputs": [],
   "source": [
    "data, data_unseen = helper_features.data_sampling(dataset, 0.9, random_seed=123)\n",
    "print(f\"There are {data_unseen.shape[0]} samples for Unseen Data.\")"
   ]
  },
  {
   "cell_type": "code",
   "execution_count": null,
   "metadata": {
    "execution": {
     "iopub.status.busy": "2021-06-12T07:20:23.374487Z",
     "iopub.status.idle": "2021-06-12T07:20:23.374487Z"
    }
   },
   "outputs": [],
   "source": [
    "from pycaret.classification import *"
   ]
  },
  {
   "cell_type": "code",
   "execution_count": null,
   "metadata": {
    "execution": {
     "iopub.status.busy": "2021-06-12T07:20:23.375488Z",
     "iopub.status.idle": "2021-06-12T07:20:23.375488Z"
    }
   },
   "outputs": [],
   "source": [
    "exp01 = setup(data=data, target=\"Churn\", session_id=123, ignore_features=[\"customerID\"], \n",
    "                numeric_features=[\"SeniorCitizen\"],normalize=True, \n",
    "              feature_selection=True,log_experiment = True, experiment_name = 'churn_02',\n",
    "              log_plots=True, log_profile=True)"
   ]
  },
  {
   "cell_type": "code",
   "execution_count": null,
   "metadata": {
    "execution": {
     "iopub.status.busy": "2021-06-12T07:20:23.375488Z",
     "iopub.status.idle": "2021-06-12T07:20:23.375488Z"
    }
   },
   "outputs": [],
   "source": [
    "compare_models(fold=10, sort=\"F1\")"
   ]
  },
  {
   "cell_type": "code",
   "execution_count": null,
   "metadata": {
    "execution": {
     "iopub.status.busy": "2021-06-12T07:20:23.376488Z",
     "iopub.status.idle": "2021-06-12T07:20:23.376488Z"
    }
   },
   "outputs": [],
   "source": [
    "base_alg = \"lr\"\n",
    "base_model = create_model(base_alg)"
   ]
  },
  {
   "cell_type": "code",
   "execution_count": null,
   "metadata": {
    "execution": {
     "iopub.status.busy": "2021-06-12T07:20:23.377489Z",
     "iopub.status.idle": "2021-06-12T07:20:23.377489Z"
    }
   },
   "outputs": [],
   "source": [
    "plot_model(base_model, plot=\"parameter\")"
   ]
  },
  {
   "cell_type": "code",
   "execution_count": null,
   "metadata": {
    "execution": {
     "iopub.status.busy": "2021-06-12T07:20:23.378489Z",
     "iopub.status.idle": "2021-06-12T07:20:23.378489Z"
    }
   },
   "outputs": [],
   "source": [
    "plot_model(base_model)"
   ]
  },
  {
   "cell_type": "code",
   "execution_count": null,
   "metadata": {
    "execution": {
     "iopub.status.busy": "2021-06-12T07:20:23.378489Z",
     "iopub.status.idle": "2021-06-12T07:20:23.379488Z"
    }
   },
   "outputs": [],
   "source": [
    "plot_model(base_model, plot=\"pr\")"
   ]
  },
  {
   "cell_type": "code",
   "execution_count": null,
   "metadata": {
    "execution": {
     "iopub.status.busy": "2021-06-12T07:20:23.379488Z",
     "iopub.status.idle": "2021-06-12T07:20:23.380488Z"
    }
   },
   "outputs": [],
   "source": [
    "plot_model(base_model, plot=\"confusion_matrix\")"
   ]
  },
  {
   "cell_type": "code",
   "execution_count": null,
   "metadata": {
    "execution": {
     "iopub.status.busy": "2021-06-12T07:20:23.380488Z",
     "iopub.status.idle": "2021-06-12T07:20:23.381488Z"
    }
   },
   "outputs": [],
   "source": [
    "plot_model(base_model, plot=\"error\")"
   ]
  },
  {
   "cell_type": "code",
   "execution_count": null,
   "metadata": {
    "execution": {
     "iopub.status.busy": "2021-06-12T07:20:23.381488Z",
     "iopub.status.idle": "2021-06-12T07:20:23.381488Z"
    }
   },
   "outputs": [],
   "source": [
    "plot_model(base_model, plot=\"class_report\")"
   ]
  },
  {
   "cell_type": "code",
   "execution_count": null,
   "metadata": {
    "execution": {
     "iopub.status.busy": "2021-06-12T07:20:23.382489Z",
     "iopub.status.idle": "2021-06-12T07:20:23.382489Z"
    }
   },
   "outputs": [],
   "source": [
    "plot_model(base_model, plot=\"boundary\")"
   ]
  },
  {
   "cell_type": "code",
   "execution_count": null,
   "metadata": {
    "execution": {
     "iopub.status.busy": "2021-06-12T07:20:23.383490Z",
     "iopub.status.idle": "2021-06-12T07:20:23.383490Z"
    }
   },
   "outputs": [],
   "source": [
    "plot_model(base_model, plot=\"feature\")"
   ]
  },
  {
   "cell_type": "code",
   "execution_count": null,
   "metadata": {
    "execution": {
     "iopub.status.busy": "2021-06-12T07:20:23.383490Z",
     "iopub.status.idle": "2021-06-12T07:20:23.383490Z"
    }
   },
   "outputs": [],
   "source": [
    "plot_model(base_model, plot=\"calibration\")"
   ]
  },
  {
   "cell_type": "code",
   "execution_count": null,
   "metadata": {
    "execution": {
     "iopub.status.busy": "2021-06-12T07:20:23.384491Z",
     "iopub.status.idle": "2021-06-12T07:20:23.384491Z"
    }
   },
   "outputs": [],
   "source": [
    "tuned_model = tune_model(base_model, fold=10, optimize=\"F1\")"
   ]
  },
  {
   "cell_type": "code",
   "execution_count": null,
   "metadata": {
    "execution": {
     "iopub.status.busy": "2021-06-12T07:20:23.385490Z",
     "iopub.status.idle": "2021-06-12T07:20:23.385490Z"
    }
   },
   "outputs": [],
   "source": [
    "plot_model(tuned_model, plot=\"parameter\")"
   ]
  },
  {
   "cell_type": "code",
   "execution_count": null,
   "metadata": {
    "execution": {
     "iopub.status.busy": "2021-06-12T07:20:23.385490Z",
     "iopub.status.idle": "2021-06-12T07:20:23.386490Z"
    }
   },
   "outputs": [],
   "source": [
    "plot_model(tuned_model, plot=\"confusion_matrix\")"
   ]
  },
  {
   "cell_type": "code",
   "execution_count": null,
   "metadata": {
    "execution": {
     "iopub.status.busy": "2021-06-12T07:20:23.386490Z",
     "iopub.status.idle": "2021-06-12T07:20:23.386490Z"
    }
   },
   "outputs": [],
   "source": [
    "plot_model(tuned_model, plot=\"feature\")"
   ]
  },
  {
   "cell_type": "code",
   "execution_count": null,
   "metadata": {
    "execution": {
     "iopub.status.busy": "2021-06-12T07:20:23.387492Z",
     "iopub.status.idle": "2021-06-12T07:20:23.387492Z"
    }
   },
   "outputs": [],
   "source": [
    "bagged_model = ensemble_model(tuned_model)"
   ]
  },
  {
   "cell_type": "code",
   "execution_count": null,
   "metadata": {
    "execution": {
     "iopub.status.busy": "2021-06-12T07:20:23.388491Z",
     "iopub.status.idle": "2021-06-12T07:20:23.388491Z"
    }
   },
   "outputs": [],
   "source": [
    "print(bagged_model)"
   ]
  },
  {
   "cell_type": "code",
   "execution_count": null,
   "metadata": {
    "execution": {
     "iopub.status.busy": "2021-06-12T07:20:23.389491Z",
     "iopub.status.idle": "2021-06-12T07:20:23.389491Z"
    }
   },
   "outputs": [],
   "source": [
    "boosted_dt = ensemble_model(bagged_model, method = 'Boosting')"
   ]
  },
  {
   "cell_type": "code",
   "execution_count": null,
   "metadata": {
    "execution": {
     "iopub.status.busy": "2021-06-12T07:20:23.389491Z",
     "iopub.status.idle": "2021-06-12T07:20:23.390491Z"
    }
   },
   "outputs": [],
   "source": [
    "blended_model = blend_models(estimator_list=[tuned_model, bagged_model], method=\"soft\")"
   ]
  },
  {
   "cell_type": "code",
   "execution_count": null,
   "metadata": {
    "execution": {
     "iopub.status.busy": "2021-06-12T07:20:23.390491Z",
     "iopub.status.idle": "2021-06-12T07:20:23.390491Z"
    }
   },
   "outputs": [],
   "source": [
    "blended_model = blend_models(estimator_list=[tuned_model, bagged_model], method=\"hard\")"
   ]
  },
  {
   "cell_type": "code",
   "execution_count": null,
   "metadata": {
    "execution": {
     "iopub.status.busy": "2021-06-12T07:20:23.391491Z",
     "iopub.status.idle": "2021-06-12T07:20:23.391491Z"
    }
   },
   "outputs": [],
   "source": [
    "nb = create_model('nb')\n",
    "lr = create_model('lr')\n",
    "lda = create_model('lda')"
   ]
  },
  {
   "cell_type": "code",
   "execution_count": null,
   "metadata": {
    "execution": {
     "iopub.status.busy": "2021-06-12T07:20:23.391491Z",
     "iopub.status.idle": "2021-06-12T07:20:23.392492Z"
    }
   },
   "outputs": [],
   "source": [
    "blend_soft = blend_models(estimator_list = [nb, lda, lr], method = 'soft')"
   ]
  },
  {
   "cell_type": "code",
   "execution_count": null,
   "metadata": {
    "execution": {
     "iopub.status.busy": "2021-06-12T07:20:23.392492Z",
     "iopub.status.idle": "2021-06-12T07:20:23.392492Z"
    }
   },
   "outputs": [],
   "source": [
    "top5 = compare_models(n_select = 5)"
   ]
  },
  {
   "cell_type": "code",
   "execution_count": null,
   "metadata": {
    "execution": {
     "iopub.status.busy": "2021-06-12T07:20:23.393491Z",
     "iopub.status.idle": "2021-06-12T07:20:23.393491Z"
    }
   },
   "outputs": [],
   "source": [
    "stack_soft = stack_models(top5)"
   ]
  },
  {
   "cell_type": "markdown",
   "metadata": {},
   "source": [
    "##Model Calibration \n",
    "\n",
    "When performing classification you often not only want to predict the class label (outcome such as 0 or 1), but also obtain the probability of the respective outcome which provides a level of confidence on the prediction. Some models can give you poor estimates of the class probabilities and some do not even support probability prediction. Well calibrated classifiers are probabilistic and provide outputs in the form of probabilities that can be directly interpreted as a confidence level. PyCaret allows you to calibrate the probabilities of a given model through the calibrate_model() function. See an example below"
   ]
  },
  {
   "cell_type": "code",
   "execution_count": null,
   "metadata": {
    "execution": {
     "iopub.status.busy": "2021-06-12T07:20:23.393491Z",
     "iopub.status.idle": "2021-06-12T07:20:23.394493Z"
    }
   },
   "outputs": [],
   "source": [
    "plot_model(stack_soft, plot='calibration')"
   ]
  },
  {
   "cell_type": "markdown",
   "metadata": {},
   "source": [
    "By default, calibrate_model() uses the sigmoid method which corresponds to Platt's approach. The other available method is isotonic which is a non-parametric approach. "
   ]
  },
  {
   "cell_type": "code",
   "execution_count": null,
   "metadata": {
    "execution": {
     "iopub.status.busy": "2021-06-12T07:20:23.394493Z",
     "iopub.status.idle": "2021-06-12T07:20:23.394493Z"
    }
   },
   "outputs": [],
   "source": [
    "calibrated_rf_isotonic = calibrate_model(stack_soft, method = 'isotonic')"
   ]
  },
  {
   "cell_type": "code",
   "execution_count": null,
   "metadata": {
    "execution": {
     "iopub.status.busy": "2021-06-12T07:20:23.395492Z",
     "iopub.status.idle": "2021-06-12T07:20:23.395492Z"
    }
   },
   "outputs": [],
   "source": [
    "plot_model(calibrated_rf_isotonic, plot='calibration')"
   ]
  },
  {
   "cell_type": "code",
   "execution_count": null,
   "metadata": {
    "execution": {
     "iopub.status.busy": "2021-06-12T07:20:23.396492Z",
     "iopub.status.idle": "2021-06-12T07:20:23.396492Z"
    }
   },
   "outputs": [],
   "source": [
    "evaluate_model(calibrated_rf_isotonic)"
   ]
  },
  {
   "cell_type": "code",
   "execution_count": null,
   "metadata": {
    "execution": {
     "iopub.status.busy": "2021-06-12T07:20:23.397492Z",
     "iopub.status.idle": "2021-06-12T07:20:23.397492Z"
    }
   },
   "outputs": [],
   "source": [
    "predict_model(calibrated_rf_isotonic);"
   ]
  },
  {
   "cell_type": "code",
   "execution_count": null,
   "metadata": {
    "execution": {
     "iopub.status.busy": "2021-06-12T07:20:23.397492Z",
     "iopub.status.idle": "2021-06-12T07:20:23.398493Z"
    }
   },
   "outputs": [],
   "source": [
    "predict_model(blend_soft);"
   ]
  },
  {
   "cell_type": "code",
   "execution_count": null,
   "metadata": {
    "execution": {
     "iopub.status.busy": "2021-06-12T07:20:23.398493Z",
     "iopub.status.idle": "2021-06-12T07:20:23.398493Z"
    }
   },
   "outputs": [],
   "source": [
    "final_rf = finalize_model(blend_soft)"
   ]
  },
  {
   "cell_type": "code",
   "execution_count": null,
   "metadata": {
    "execution": {
     "iopub.status.busy": "2021-06-12T07:20:23.399494Z",
     "iopub.status.idle": "2021-06-12T07:20:23.399494Z"
    }
   },
   "outputs": [],
   "source": [
    "print(final_rf)"
   ]
  },
  {
   "cell_type": "code",
   "execution_count": null,
   "metadata": {
    "execution": {
     "iopub.status.busy": "2021-06-12T07:20:23.400493Z",
     "iopub.status.idle": "2021-06-12T07:20:23.400493Z"
    }
   },
   "outputs": [],
   "source": [
    "predict_model(final_rf);"
   ]
  },
  {
   "cell_type": "code",
   "execution_count": null,
   "metadata": {
    "execution": {
     "iopub.status.busy": "2021-06-12T07:20:23.400493Z",
     "iopub.status.idle": "2021-06-12T07:20:23.401493Z"
    }
   },
   "outputs": [],
   "source": [
    "unseen_predictions = predict_model(final_rf, data=data_unseen)\n",
    "unseen_predictions.head()"
   ]
  },
  {
   "cell_type": "code",
   "execution_count": null,
   "metadata": {
    "execution": {
     "iopub.status.busy": "2021-06-12T07:20:23.401493Z",
     "iopub.status.idle": "2021-06-12T07:20:23.401493Z"
    }
   },
   "outputs": [],
   "source": [
    "from pycaret.utils import check_metric\n",
    "check_metric(unseen_predictions['Churn'], unseen_predictions['Label'], metric = 'F1')"
   ]
  },
  {
   "cell_type": "code",
   "execution_count": null,
   "metadata": {
    "execution": {
     "iopub.status.busy": "2021-06-12T07:20:23.402493Z",
     "iopub.status.idle": "2021-06-12T07:20:23.402493Z"
    }
   },
   "outputs": [],
   "source": [
    "model_paths = \"/Users/lavi/Documents/Consulting Work/Upgrad/Alumni Sessions/MLOps/Session01/project/mlops_experiment/models/\"\n",
    "save_model(final_rf, model_paths+'Final_Blend_model_version0.1_12june')"
   ]
  },
  {
   "cell_type": "code",
   "execution_count": null,
   "metadata": {
    "execution": {
     "iopub.status.busy": "2021-06-12T07:20:23.403494Z",
     "iopub.status.idle": "2021-06-12T07:20:23.403494Z"
    }
   },
   "outputs": [],
   "source": [
    "saved_final_rf = load_model(model_paths+'Final_Blend_model_version0.1_12june')"
   ]
  },
  {
   "cell_type": "code",
   "execution_count": null,
   "metadata": {
    "execution": {
     "iopub.status.busy": "2021-06-12T07:20:23.404494Z",
     "iopub.status.idle": "2021-06-12T07:20:23.404494Z"
    }
   },
   "outputs": [],
   "source": [
    "new_prediction = predict_model(saved_final_rf, data=data_unseen)"
   ]
  },
  {
   "cell_type": "code",
   "execution_count": null,
   "metadata": {
    "execution": {
     "iopub.status.busy": "2021-06-12T07:20:23.404494Z",
     "iopub.status.idle": "2021-06-12T07:20:23.404494Z"
    }
   },
   "outputs": [],
   "source": [
    "new_prediction.head()"
   ]
  },
  {
   "cell_type": "code",
   "execution_count": null,
   "metadata": {
    "execution": {
     "iopub.status.busy": "2021-06-12T07:20:23.405494Z",
     "iopub.status.idle": "2021-06-12T07:20:23.405494Z"
    }
   },
   "outputs": [],
   "source": [
    "from pycaret.utils import check_metric\n",
    "check_metric(new_prediction['Churn'], new_prediction['Label'], metric = 'Accuracy')"
   ]
  },
  {
   "cell_type": "code",
   "execution_count": null,
   "metadata": {
    "execution": {
     "iopub.status.busy": "2021-06-12T07:20:23.406496Z",
     "iopub.status.idle": "2021-06-12T07:20:23.406496Z"
    }
   },
   "outputs": [],
   "source": [
    "check_metric(new_prediction['Churn'], new_prediction['Label'], metric = 'F1')"
   ]
  },
  {
   "cell_type": "code",
   "execution_count": null,
   "metadata": {
    "execution": {
     "iopub.status.busy": "2021-06-12T07:20:23.406496Z",
     "iopub.status.idle": "2021-06-12T07:20:23.407495Z"
    }
   },
   "outputs": [],
   "source": [
    "!mlflow ui"
   ]
  }
 ],
 "metadata": {
  "kernelspec": {
   "display_name": "Python 3",
   "language": "python",
   "name": "python3"
  },
  "language_info": {
   "codemirror_mode": {
    "name": "ipython",
    "version": 3
   },
   "file_extension": ".py",
   "mimetype": "text/x-python",
   "name": "python",
   "nbconvert_exporter": "python",
   "pygments_lexer": "ipython3",
   "version": "3.8.5"
  }
 },
 "nbformat": 4,
 "nbformat_minor": 5
}
