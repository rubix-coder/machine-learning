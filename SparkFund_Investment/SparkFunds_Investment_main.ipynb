{
 "cells": [
  {
   "cell_type": "markdown",
   "metadata": {
    "slideshow": {
     "slide_type": "-"
    }
   },
   "source": [
    "<H1><font color = 'green'>Investment Analysis Assignment</font></H1>\n",
    "<H3> @author: Jesal P. </H3>\n",
    "\n",
    "***"
   ]
  },
  {
   "cell_type": "markdown",
   "metadata": {},
   "source": [
    "<H3> >> Importing required Libraries </H3>"
   ]
  },
  {
   "cell_type": "code",
   "execution_count": 1,
   "metadata": {},
   "outputs": [],
   "source": [
    "import pandas as pd\n",
    "import numpy as np\n",
    "import matplotlib.pyplot as plt"
   ]
  },
  {
   "cell_type": "markdown",
   "metadata": {},
   "source": [
    "<H2>Checkpoint 1: Data Cleaning 1</H2>\n",
    "<H3>>> Loading the <font color='red'>companies</font> and <font color='blue'>rounds2 </font> data into <font color='red'>companies</font> and <font color='blue'>rounds2 </font>dataframes respectively.</H3>"
   ]
  },
  {
   "cell_type": "code",
   "execution_count": 2,
   "metadata": {},
   "outputs": [],
   "source": [
    "companies = pd.read_csv(\"D:/Disc_von_Wolke/GoogleDrive/UpGrad_ML_AI_coursebook/Submission_Documents/SparkFund_Investment/Downloads_file_Investment_Analysis/companies.txt\", encoding=\"ISO-8859-1\",sep='\\t')\n",
    "\n",
    "rounds2 = pd.read_csv(\"D:/Disc_von_Wolke/GoogleDrive/UpGrad_ML_AI_coursebook/Submission_Documents/SparkFund_Investment/Downloads_file_Investment_Analysis/rounds2.csv\",encoding=\"ISO-8859-1\")\n",
    "\n",
    "# companies.describe()\n",
    "# rounds2.info()"
   ]
  },
  {
   "cell_type": "code",
   "execution_count": 3,
   "metadata": {},
   "outputs": [],
   "source": [
    "# Droping columns from companies that are not useful for this analysis\n",
    "companies = companies.drop(['homepage_url','status','state_code','region','city','founded_at'], axis = 1)\n",
    "#companies.head()\n",
    "\n",
    "# Droping columns from rounds2 that are not useful for this analysis\n",
    "rounds2 = rounds2.drop(['funding_round_code','funded_at'],axis=1)"
   ]
  },
  {
   "cell_type": "markdown",
   "metadata": {},
   "source": [
    "<H3>>> Renaming column name <font color='red'>\"company_permalink\"</font> of <font color='blue'>rounds2</font> to <font color='red'>\"permalink\"</font> for merging.</H3>"
   ]
  },
  {
   "cell_type": "code",
   "execution_count": 4,
   "metadata": {},
   "outputs": [],
   "source": [
    "rounds2 = rounds2.rename(columns = {\"company_permalink\":\"permalink\"}) "
   ]
  },
  {
   "cell_type": "markdown",
   "metadata": {},
   "source": [
    "<H3>>> Unique Companies in <font color='blue'>rounds2</font></H3>"
   ]
  },
  {
   "cell_type": "code",
   "execution_count": 5,
   "metadata": {},
   "outputs": [
    {
     "name": "stdout",
     "output_type": "stream",
     "text": [
      "> 66370 unique companies are present in rounds2.\n"
     ]
    }
   ],
   "source": [
    "rounds2['permalink'] = rounds2['permalink'].str.lower()\n",
    "unique_company_rounds2 = len(rounds2['permalink'].unique())\n",
    "print(\"> {} unique companies are present in rounds2.\".format(unique_company_rounds2))"
   ]
  },
  {
   "cell_type": "markdown",
   "metadata": {},
   "source": [
    "<H3>>> Unique Companies in <font color='red'>companies</font></H3>"
   ]
  },
  {
   "cell_type": "code",
   "execution_count": 6,
   "metadata": {},
   "outputs": [
    {
     "name": "stdout",
     "output_type": "stream",
     "text": [
      "> 66368 unique companies are present in companies.\n"
     ]
    }
   ],
   "source": [
    "companies['permalink'] = companies['permalink'].str.lower()\n",
    "unique_company_companies = len(companies['permalink'].unique())\n",
    "print(\"> {} unique companies are present in companies.\".format(unique_company_companies))"
   ]
  },
  {
   "cell_type": "markdown",
   "metadata": {},
   "source": [
    "<H3>>> Companies of <font color='blue'>rounds2</font> in Companies of<font color='red'>companies</font></H3>"
   ]
  },
  {
   "cell_type": "code",
   "execution_count": 7,
   "metadata": {},
   "outputs": [
    {
     "data": {
      "text/plain": [
       "True     114942\n",
       "False         7\n",
       "Name: permalink, dtype: int64"
      ]
     },
     "execution_count": 7,
     "metadata": {},
     "output_type": "execute_result"
    }
   ],
   "source": [
    "r2_in_cmps = rounds2['permalink'].isin(companies['permalink']).value_counts()\n",
    "r2_in_cmps"
   ]
  },
  {
   "cell_type": "code",
   "execution_count": 8,
   "metadata": {},
   "outputs": [],
   "source": [
    "# import chardet\n",
    "\n",
    "# rawdata = open('D:/Disc_von_Wolke/GoogleDrive/UpGrad_ML_AI_coursebook/Submission_Documents/SparkFund_Investment/Downloads_file_Investment_Analysis/rounds2.csv','rb').read()\n",
    "# result = chardet.detect(rawdata)\n",
    "# charenc = result['encoding']\n",
    "# print(charenc)"
   ]
  },
  {
   "cell_type": "code",
   "execution_count": 9,
   "metadata": {},
   "outputs": [],
   "source": [
    "# print(result)"
   ]
  },
  {
   "cell_type": "markdown",
   "metadata": {},
   "source": [
    "<H3>>> Merge the two data frames so that all variables (columns) in the <font color='red'>companies</font> frame are added to the <font color='blue'>rounds2</font> data frame. Name the merged frame <font color ='magenta'>master_frame</font>. </H3>"
   ]
  },
  {
   "cell_type": "code",
   "execution_count": 10,
   "metadata": {},
   "outputs": [
    {
     "data": {
      "text/html": [
       "<div>\n",
       "<style scoped>\n",
       "    .dataframe tbody tr th:only-of-type {\n",
       "        vertical-align: middle;\n",
       "    }\n",
       "\n",
       "    .dataframe tbody tr th {\n",
       "        vertical-align: top;\n",
       "    }\n",
       "\n",
       "    .dataframe thead th {\n",
       "        text-align: right;\n",
       "    }\n",
       "</style>\n",
       "<table border=\"1\" class=\"dataframe\">\n",
       "  <thead>\n",
       "    <tr style=\"text-align: right;\">\n",
       "      <th></th>\n",
       "      <th>permalink</th>\n",
       "      <th>funding_round_permalink</th>\n",
       "      <th>funding_round_type</th>\n",
       "      <th>raised_amount_usd</th>\n",
       "      <th>name</th>\n",
       "      <th>category_list</th>\n",
       "      <th>country_code</th>\n",
       "    </tr>\n",
       "  </thead>\n",
       "  <tbody>\n",
       "    <tr>\n",
       "      <th>0</th>\n",
       "      <td>/organization/-fame</td>\n",
       "      <td>/funding-round/9a01d05418af9f794eebff7ace91f638</td>\n",
       "      <td>venture</td>\n",
       "      <td>10000000.0</td>\n",
       "      <td>#fame</td>\n",
       "      <td>Media</td>\n",
       "      <td>IND</td>\n",
       "    </tr>\n",
       "    <tr>\n",
       "      <th>1</th>\n",
       "      <td>/organization/-qounter</td>\n",
       "      <td>/funding-round/22dacff496eb7acb2b901dec1dfe5633</td>\n",
       "      <td>venture</td>\n",
       "      <td>NaN</td>\n",
       "      <td>:Qounter</td>\n",
       "      <td>Application Platforms|Real Time|Social Network...</td>\n",
       "      <td>USA</td>\n",
       "    </tr>\n",
       "    <tr>\n",
       "      <th>2</th>\n",
       "      <td>/organization/-qounter</td>\n",
       "      <td>/funding-round/b44fbb94153f6cdef13083530bb48030</td>\n",
       "      <td>seed</td>\n",
       "      <td>700000.0</td>\n",
       "      <td>:Qounter</td>\n",
       "      <td>Application Platforms|Real Time|Social Network...</td>\n",
       "      <td>USA</td>\n",
       "    </tr>\n",
       "    <tr>\n",
       "      <th>3</th>\n",
       "      <td>/organization/-the-one-of-them-inc-</td>\n",
       "      <td>/funding-round/650b8f704416801069bb178a1418776b</td>\n",
       "      <td>venture</td>\n",
       "      <td>3406878.0</td>\n",
       "      <td>(THE) ONE of THEM,Inc.</td>\n",
       "      <td>Apps|Games|Mobile</td>\n",
       "      <td>NaN</td>\n",
       "    </tr>\n",
       "    <tr>\n",
       "      <th>4</th>\n",
       "      <td>/organization/0-6-com</td>\n",
       "      <td>/funding-round/5727accaeaa57461bd22a9bdd945382d</td>\n",
       "      <td>venture</td>\n",
       "      <td>2000000.0</td>\n",
       "      <td>0-6.com</td>\n",
       "      <td>Curated Web</td>\n",
       "      <td>CHN</td>\n",
       "    </tr>\n",
       "  </tbody>\n",
       "</table>\n",
       "</div>"
      ],
      "text/plain": [
       "                             permalink  \\\n",
       "0                  /organization/-fame   \n",
       "1               /organization/-qounter   \n",
       "2               /organization/-qounter   \n",
       "3  /organization/-the-one-of-them-inc-   \n",
       "4                /organization/0-6-com   \n",
       "\n",
       "                           funding_round_permalink funding_round_type  \\\n",
       "0  /funding-round/9a01d05418af9f794eebff7ace91f638            venture   \n",
       "1  /funding-round/22dacff496eb7acb2b901dec1dfe5633            venture   \n",
       "2  /funding-round/b44fbb94153f6cdef13083530bb48030               seed   \n",
       "3  /funding-round/650b8f704416801069bb178a1418776b            venture   \n",
       "4  /funding-round/5727accaeaa57461bd22a9bdd945382d            venture   \n",
       "\n",
       "   raised_amount_usd                    name  \\\n",
       "0         10000000.0                   #fame   \n",
       "1                NaN                :Qounter   \n",
       "2           700000.0                :Qounter   \n",
       "3          3406878.0  (THE) ONE of THEM,Inc.   \n",
       "4          2000000.0                 0-6.com   \n",
       "\n",
       "                                       category_list country_code  \n",
       "0                                              Media          IND  \n",
       "1  Application Platforms|Real Time|Social Network...          USA  \n",
       "2  Application Platforms|Real Time|Social Network...          USA  \n",
       "3                                  Apps|Games|Mobile          NaN  \n",
       "4                                        Curated Web          CHN  "
      ]
     },
     "execution_count": 10,
     "metadata": {},
     "output_type": "execute_result"
    }
   ],
   "source": [
    "master_frame = pd.merge(rounds2,companies,how ='inner',on=\"permalink\")\n",
    "\n",
    "# filling NA values with 0 ; but the spread of data did'nt made any difference\n",
    "# master_frame[\"raised_amount_usd\"] = master_frame[\"raised_amount_usd\"].fillna(0) #replacing nan values with 0\n",
    "# boxplot = master_frame.boxplot(column=['raised_amount_usd'])\n",
    "master_frame.head(5)"
   ]
  },
  {
   "cell_type": "markdown",
   "metadata": {},
   "source": [
    "***\n",
    "<H2> Checkpoint 2: Funding Type Analysis </H2>\n",
    "<H3>>> Calculating the most <font color='red'>representative value</font> of the investment amount for<br> each of the four funding types\n",
    "    <font color='blue'>(venture, angel, seed, and private equity) </font> </H3>"
   ]
  },
  {
   "cell_type": "code",
   "execution_count": 43,
   "metadata": {},
   "outputs": [
    {
     "data": {
      "image/png": "[encoded data removed]",
      "text/plain": [
       "<Figure size 1800x720 with 1 Axes>"
      ]
     },
     "metadata": {
      "needs_background": "light"
     },
     "output_type": "display_data"
    }
   ],
   "source": [
    "import seaborn as sns\n",
    "fig3,axes3 = plt.subplots(figsize=(25,10))\n",
    "sns.boxplot(x='funding_round_type',y ='raised_amount_usd',data = master_frame)\n",
    "plt.yscale('log')\n",
    "plt.show()"
   ]
  },
  {
   "cell_type": "code",
   "execution_count": 12,
   "metadata": {},
   "outputs": [
    {
     "data": {
      "text/html": [
       "<div>\n",
       "<style scoped>\n",
       "    .dataframe tbody tr th:only-of-type {\n",
       "        vertical-align: middle;\n",
       "    }\n",
       "\n",
       "    .dataframe tbody tr th {\n",
       "        vertical-align: top;\n",
       "    }\n",
       "\n",
       "    .dataframe thead th {\n",
       "        text-align: right;\n",
       "    }\n",
       "</style>\n",
       "<table border=\"1\" class=\"dataframe\">\n",
       "  <thead>\n",
       "    <tr style=\"text-align: right;\">\n",
       "      <th></th>\n",
       "      <th>sum</th>\n",
       "      <th>mean</th>\n",
       "    </tr>\n",
       "    <tr>\n",
       "      <th>funding_round_type</th>\n",
       "      <th></th>\n",
       "      <th></th>\n",
       "    </tr>\n",
       "  </thead>\n",
       "  <tbody>\n",
       "    <tr>\n",
       "      <th>angel</th>\n",
       "      <td>4.659255e+09</td>\n",
       "      <td>9.586945e+05</td>\n",
       "    </tr>\n",
       "    <tr>\n",
       "      <th>convertible_note</th>\n",
       "      <td>2.103126e+09</td>\n",
       "      <td>1.453439e+06</td>\n",
       "    </tr>\n",
       "    <tr>\n",
       "      <th>debt_financing</th>\n",
       "      <td>1.138848e+11</td>\n",
       "      <td>1.704353e+07</td>\n",
       "    </tr>\n",
       "    <tr>\n",
       "      <th>equity_crowdfunding</th>\n",
       "      <td>6.611162e+08</td>\n",
       "      <td>5.383682e+05</td>\n",
       "    </tr>\n",
       "    <tr>\n",
       "      <th>grant</th>\n",
       "      <td>9.134424e+09</td>\n",
       "      <td>4.300576e+06</td>\n",
       "    </tr>\n",
       "    <tr>\n",
       "      <th>non_equity_assistance</th>\n",
       "      <td>3.001782e+07</td>\n",
       "      <td>4.112031e+05</td>\n",
       "    </tr>\n",
       "    <tr>\n",
       "      <th>post_ipo_debt</th>\n",
       "      <td>2.564309e+10</td>\n",
       "      <td>1.687046e+08</td>\n",
       "    </tr>\n",
       "    <tr>\n",
       "      <th>post_ipo_equity</th>\n",
       "      <td>5.161061e+10</td>\n",
       "      <td>8.218249e+07</td>\n",
       "    </tr>\n",
       "    <tr>\n",
       "      <th>private_equity</th>\n",
       "      <td>1.419254e+11</td>\n",
       "      <td>7.330859e+07</td>\n",
       "    </tr>\n",
       "    <tr>\n",
       "      <th>product_crowdfunding</th>\n",
       "      <td>5.261686e+08</td>\n",
       "      <td>1.363131e+06</td>\n",
       "    </tr>\n",
       "    <tr>\n",
       "      <th>secondary_market</th>\n",
       "      <td>2.389489e+09</td>\n",
       "      <td>7.964963e+07</td>\n",
       "    </tr>\n",
       "    <tr>\n",
       "      <th>seed</th>\n",
       "      <td>1.698824e+10</td>\n",
       "      <td>7.197796e+05</td>\n",
       "    </tr>\n",
       "    <tr>\n",
       "      <th>undisclosed</th>\n",
       "      <td>3.044143e+10</td>\n",
       "      <td>1.924237e+07</td>\n",
       "    </tr>\n",
       "    <tr>\n",
       "      <th>venture</th>\n",
       "      <td>5.901262e+11</td>\n",
       "      <td>1.174895e+07</td>\n",
       "    </tr>\n",
       "  </tbody>\n",
       "</table>\n",
       "</div>"
      ],
      "text/plain": [
       "                                sum          mean\n",
       "funding_round_type                               \n",
       "angel                  4.659255e+09  9.586945e+05\n",
       "convertible_note       2.103126e+09  1.453439e+06\n",
       "debt_financing         1.138848e+11  1.704353e+07\n",
       "equity_crowdfunding    6.611162e+08  5.383682e+05\n",
       "grant                  9.134424e+09  4.300576e+06\n",
       "non_equity_assistance  3.001782e+07  4.112031e+05\n",
       "post_ipo_debt          2.564309e+10  1.687046e+08\n",
       "post_ipo_equity        5.161061e+10  8.218249e+07\n",
       "private_equity         1.419254e+11  7.330859e+07\n",
       "product_crowdfunding   5.261686e+08  1.363131e+06\n",
       "secondary_market       2.389489e+09  7.964963e+07\n",
       "seed                   1.698824e+10  7.197796e+05\n",
       "undisclosed            3.044143e+10  1.924237e+07\n",
       "venture                5.901262e+11  1.174895e+07"
      ]
     },
     "execution_count": 12,
     "metadata": {},
     "output_type": "execute_result"
    }
   ],
   "source": [
    "sel_fund_round_types = [\"venture\", \"angel\",\"seed\",\"private_equity\"] # List of chosen Investment Types\n",
    "\n",
    "# Creating a copy of master frame \n",
    "master_frame_cpy = master_frame.groupby(['funding_round_type'])\n",
    "FTA_df = pd.DataFrame(master_frame_cpy['raised_amount_usd'].sum())\n",
    "FTA_df['mean']= pd.DataFrame(master_frame_cpy['raised_amount_usd'].mean())\n",
    "FTA_df.columns=['sum','mean']\n",
    "FTA_df"
   ]
  },
  {
   "cell_type": "markdown",
   "metadata": {},
   "source": [
    "<H3> >> Checking if the investment type has <font color='blue'>average investment</font> amount between <font color ='green'>5 to 15 million USD</font> </H3>"
   ]
  },
  {
   "cell_type": "code",
   "execution_count": 13,
   "metadata": {},
   "outputs": [],
   "source": [
    "# Creating lit of values for the condition inv_amt_range = [lower value limit ,upper value limit] \n",
    "inv_amt_range = [5E6,15E6] # Here it is 5-15 M USD -> 5E6 to 15E6\n",
    "\n",
    "# Checking the condition of investment amount is between investment amount range\n",
    "FTA_df['inrange'] = FTA_df['mean'].apply(lambda x:x >= inv_amt_range[0] and x <= inv_amt_range[1])"
   ]
  },
  {
   "cell_type": "markdown",
   "metadata": {},
   "source": [
    "<H3> >> Filtering the data so it only contains the chosen investment types. <font color ='brown'>FTA_df = fund type analysis dataframe </font></H3>"
   ]
  },
  {
   "cell_type": "code",
   "execution_count": 14,
   "metadata": {},
   "outputs": [
    {
     "data": {
      "text/html": [
       "<div>\n",
       "<style scoped>\n",
       "    .dataframe tbody tr th:only-of-type {\n",
       "        vertical-align: middle;\n",
       "    }\n",
       "\n",
       "    .dataframe tbody tr th {\n",
       "        vertical-align: top;\n",
       "    }\n",
       "\n",
       "    .dataframe thead th {\n",
       "        text-align: right;\n",
       "    }\n",
       "</style>\n",
       "<table border=\"1\" class=\"dataframe\">\n",
       "  <thead>\n",
       "    <tr style=\"text-align: right;\">\n",
       "      <th></th>\n",
       "      <th>sum</th>\n",
       "      <th>mean</th>\n",
       "      <th>inrange</th>\n",
       "    </tr>\n",
       "    <tr>\n",
       "      <th>funding_round_type</th>\n",
       "      <th></th>\n",
       "      <th></th>\n",
       "      <th></th>\n",
       "    </tr>\n",
       "  </thead>\n",
       "  <tbody>\n",
       "    <tr>\n",
       "      <th>venture</th>\n",
       "      <td>5.901262e+11</td>\n",
       "      <td>1.174895e+07</td>\n",
       "      <td>True</td>\n",
       "    </tr>\n",
       "    <tr>\n",
       "      <th>angel</th>\n",
       "      <td>4.659255e+09</td>\n",
       "      <td>9.586945e+05</td>\n",
       "      <td>False</td>\n",
       "    </tr>\n",
       "    <tr>\n",
       "      <th>seed</th>\n",
       "      <td>1.698824e+10</td>\n",
       "      <td>7.197796e+05</td>\n",
       "      <td>False</td>\n",
       "    </tr>\n",
       "    <tr>\n",
       "      <th>private_equity</th>\n",
       "      <td>1.419254e+11</td>\n",
       "      <td>7.330859e+07</td>\n",
       "      <td>False</td>\n",
       "    </tr>\n",
       "  </tbody>\n",
       "</table>\n",
       "</div>"
      ],
      "text/plain": [
       "                             sum          mean  inrange\n",
       "funding_round_type                                     \n",
       "venture             5.901262e+11  1.174895e+07     True\n",
       "angel               4.659255e+09  9.586945e+05    False\n",
       "seed                1.698824e+10  7.197796e+05    False\n",
       "private_equity      1.419254e+11  7.330859e+07    False"
      ]
     },
     "execution_count": 14,
     "metadata": {},
     "output_type": "execute_result"
    }
   ],
   "source": [
    "FTA_df = FTA_df.loc[sel_fund_round_types]\n",
    "selected_FT = FTA_df.index[FTA_df['inrange']== True] # Getting Fund Type which satisfies condition 5-15 M USD\n",
    "FTA_df"
   ]
  },
  {
   "cell_type": "markdown",
   "metadata": {},
   "source": [
    "***\n",
    "\n",
    "<H2> Checkpoint 3: Country Analysis </H2>\n",
    "<H3>>> The <font color='red'>top nine countries</font> which have received the highest total funding (across ALL sectors for the chosen investment type : <font color ='blue'>Venture</font>)</H3>"
   ]
  },
  {
   "cell_type": "markdown",
   "metadata": {},
   "source": [
    "<H3> >> importing csv file containing Counties with <font color ='blue'>English as Official Language</font></H3>"
   ]
  },
  {
   "cell_type": "code",
   "execution_count": 15,
   "metadata": {},
   "outputs": [],
   "source": [
    "country_eng_df = pd.read_csv(\"D:/Disc_von_Wolke/GoogleDrive/UpGrad_ML_AI_coursebook/Submission_Documents/SparkFund_Investment/Downloads_file_Investment_Analysis/country_list_english.csv\")"
   ]
  },
  {
   "cell_type": "markdown",
   "metadata": {},
   "source": [
    "<H3>>> Filtering out <font color='red'>top nine countries</font> countries </H3> \n",
    "<h4>>>> Having <font color ='blue'>English as Official Language</font> <br> >>> Total amount of investments of funding type : <font color ='blue'>Venture</font></H4>"
   ]
  },
  {
   "cell_type": "code",
   "execution_count": 16,
   "metadata": {},
   "outputs": [
    {
     "data": {
      "text/html": [
       "<div>\n",
       "<style scoped>\n",
       "    .dataframe tbody tr th:only-of-type {\n",
       "        vertical-align: middle;\n",
       "    }\n",
       "\n",
       "    .dataframe tbody tr th {\n",
       "        vertical-align: top;\n",
       "    }\n",
       "\n",
       "    .dataframe thead th {\n",
       "        text-align: right;\n",
       "    }\n",
       "</style>\n",
       "<table border=\"1\" class=\"dataframe\">\n",
       "  <thead>\n",
       "    <tr style=\"text-align: right;\">\n",
       "      <th></th>\n",
       "      <th>raised_amount_usd</th>\n",
       "    </tr>\n",
       "    <tr>\n",
       "      <th>country_code</th>\n",
       "      <th></th>\n",
       "    </tr>\n",
       "  </thead>\n",
       "  <tbody>\n",
       "    <tr>\n",
       "      <th>USA</th>\n",
       "      <td>4.225108e+11</td>\n",
       "    </tr>\n",
       "    <tr>\n",
       "      <th>GBR</th>\n",
       "      <td>2.024563e+10</td>\n",
       "    </tr>\n",
       "    <tr>\n",
       "      <th>IND</th>\n",
       "      <td>1.439186e+10</td>\n",
       "    </tr>\n",
       "    <tr>\n",
       "      <th>CAN</th>\n",
       "      <td>9.583332e+09</td>\n",
       "    </tr>\n",
       "    <tr>\n",
       "      <th>ISR</th>\n",
       "      <td>6.907515e+09</td>\n",
       "    </tr>\n",
       "    <tr>\n",
       "      <th>SGP</th>\n",
       "      <td>2.793918e+09</td>\n",
       "    </tr>\n",
       "    <tr>\n",
       "      <th>IRL</th>\n",
       "      <td>1.676131e+09</td>\n",
       "    </tr>\n",
       "    <tr>\n",
       "      <th>AUS</th>\n",
       "      <td>1.322935e+09</td>\n",
       "    </tr>\n",
       "    <tr>\n",
       "      <th>MYS</th>\n",
       "      <td>8.830588e+08</td>\n",
       "    </tr>\n",
       "  </tbody>\n",
       "</table>\n",
       "</div>"
      ],
      "text/plain": [
       "              raised_amount_usd\n",
       "country_code                   \n",
       "USA                4.225108e+11\n",
       "GBR                2.024563e+10\n",
       "IND                1.439186e+10\n",
       "CAN                9.583332e+09\n",
       "ISR                6.907515e+09\n",
       "SGP                2.793918e+09\n",
       "IRL                1.676131e+09\n",
       "AUS                1.322935e+09\n",
       "MYS                8.830588e+08"
      ]
     },
     "execution_count": 16,
     "metadata": {},
     "output_type": "execute_result"
    }
   ],
   "source": [
    "top9 = master_frame.loc[(master_frame['funding_round_type']==\"venture\")]\n",
    "top9 = top9.loc[top9['country_code'].isin(country_eng_df['country_code'])]\n",
    "top9 = pd.DataFrame(top9.groupby(['country_code'])['raised_amount_usd'].sum()).sort_values(by=['raised_amount_usd'],ascending=False)\n",
    "top3_countries = list(top9.head(3).index)\n",
    "top9.head(9)"
   ]
  },
  {
   "cell_type": "markdown",
   "metadata": {},
   "source": [
    "***\n",
    "<H2> Checkpoint 4: Sector Analysis 1</H2>\n",
    "<H3>>> Extracting the <font color = 'blue'>primary sector</font> of each category list from the category_list column</H3>"
   ]
  },
  {
   "cell_type": "code",
   "execution_count": 17,
   "metadata": {},
   "outputs": [
    {
     "data": {
      "text/html": [
       "<div>\n",
       "<style scoped>\n",
       "    .dataframe tbody tr th:only-of-type {\n",
       "        vertical-align: middle;\n",
       "    }\n",
       "\n",
       "    .dataframe tbody tr th {\n",
       "        vertical-align: top;\n",
       "    }\n",
       "\n",
       "    .dataframe thead th {\n",
       "        text-align: right;\n",
       "    }\n",
       "</style>\n",
       "<table border=\"1\" class=\"dataframe\">\n",
       "  <thead>\n",
       "    <tr style=\"text-align: right;\">\n",
       "      <th></th>\n",
       "      <th>permalink</th>\n",
       "      <th>funding_round_permalink</th>\n",
       "      <th>funding_round_type</th>\n",
       "      <th>raised_amount_usd</th>\n",
       "      <th>name</th>\n",
       "      <th>category_list</th>\n",
       "      <th>country_code</th>\n",
       "      <th>primary_sector</th>\n",
       "    </tr>\n",
       "  </thead>\n",
       "  <tbody>\n",
       "    <tr>\n",
       "      <th>0</th>\n",
       "      <td>/organization/-fame</td>\n",
       "      <td>/funding-round/9a01d05418af9f794eebff7ace91f638</td>\n",
       "      <td>venture</td>\n",
       "      <td>10000000.0</td>\n",
       "      <td>#fame</td>\n",
       "      <td>Media</td>\n",
       "      <td>IND</td>\n",
       "      <td>Media</td>\n",
       "    </tr>\n",
       "    <tr>\n",
       "      <th>1</th>\n",
       "      <td>/organization/-qounter</td>\n",
       "      <td>/funding-round/22dacff496eb7acb2b901dec1dfe5633</td>\n",
       "      <td>venture</td>\n",
       "      <td>NaN</td>\n",
       "      <td>:Qounter</td>\n",
       "      <td>Application Platforms|Real Time|Social Network...</td>\n",
       "      <td>USA</td>\n",
       "      <td>Application Platforms</td>\n",
       "    </tr>\n",
       "    <tr>\n",
       "      <th>2</th>\n",
       "      <td>/organization/-qounter</td>\n",
       "      <td>/funding-round/b44fbb94153f6cdef13083530bb48030</td>\n",
       "      <td>seed</td>\n",
       "      <td>700000.0</td>\n",
       "      <td>:Qounter</td>\n",
       "      <td>Application Platforms|Real Time|Social Network...</td>\n",
       "      <td>USA</td>\n",
       "      <td>Apps</td>\n",
       "    </tr>\n",
       "    <tr>\n",
       "      <th>3</th>\n",
       "      <td>/organization/-the-one-of-them-inc-</td>\n",
       "      <td>/funding-round/650b8f704416801069bb178a1418776b</td>\n",
       "      <td>venture</td>\n",
       "      <td>3406878.0</td>\n",
       "      <td>(THE) ONE of THEM,Inc.</td>\n",
       "      <td>Apps|Games|Mobile</td>\n",
       "      <td>NaN</td>\n",
       "      <td>Curated Web</td>\n",
       "    </tr>\n",
       "    <tr>\n",
       "      <th>4</th>\n",
       "      <td>/organization/0-6-com</td>\n",
       "      <td>/funding-round/5727accaeaa57461bd22a9bdd945382d</td>\n",
       "      <td>venture</td>\n",
       "      <td>2000000.0</td>\n",
       "      <td>0-6.com</td>\n",
       "      <td>Curated Web</td>\n",
       "      <td>CHN</td>\n",
       "      <td>Software</td>\n",
       "    </tr>\n",
       "  </tbody>\n",
       "</table>\n",
       "</div>"
      ],
      "text/plain": [
       "                             permalink  \\\n",
       "0                  /organization/-fame   \n",
       "1               /organization/-qounter   \n",
       "2               /organization/-qounter   \n",
       "3  /organization/-the-one-of-them-inc-   \n",
       "4                /organization/0-6-com   \n",
       "\n",
       "                           funding_round_permalink funding_round_type  \\\n",
       "0  /funding-round/9a01d05418af9f794eebff7ace91f638            venture   \n",
       "1  /funding-round/22dacff496eb7acb2b901dec1dfe5633            venture   \n",
       "2  /funding-round/b44fbb94153f6cdef13083530bb48030               seed   \n",
       "3  /funding-round/650b8f704416801069bb178a1418776b            venture   \n",
       "4  /funding-round/5727accaeaa57461bd22a9bdd945382d            venture   \n",
       "\n",
       "   raised_amount_usd                    name  \\\n",
       "0         10000000.0                   #fame   \n",
       "1                NaN                :Qounter   \n",
       "2           700000.0                :Qounter   \n",
       "3          3406878.0  (THE) ONE of THEM,Inc.   \n",
       "4          2000000.0                 0-6.com   \n",
       "\n",
       "                                       category_list country_code  \\\n",
       "0                                              Media          IND   \n",
       "1  Application Platforms|Real Time|Social Network...          USA   \n",
       "2  Application Platforms|Real Time|Social Network...          USA   \n",
       "3                                  Apps|Games|Mobile          NaN   \n",
       "4                                        Curated Web          CHN   \n",
       "\n",
       "          primary_sector  \n",
       "0                  Media  \n",
       "1  Application Platforms  \n",
       "2                   Apps  \n",
       "3            Curated Web  \n",
       "4               Software  "
      ]
     },
     "execution_count": 17,
     "metadata": {},
     "output_type": "execute_result"
    }
   ],
   "source": [
    "master_frame['primary_sector'] = companies['category_list'].str.split('|').str[0]\n",
    "master_frame.head()"
   ]
  },
  {
   "cell_type": "markdown",
   "metadata": {},
   "source": [
    "<H3>>> Mapping each <font color = 'blue'>primary sector</font> to one of the <font color = 'red'>eight main sector</font>.</H3>"
   ]
  },
  {
   "cell_type": "code",
   "execution_count": 18,
   "metadata": {},
   "outputs": [
    {
     "data": {
      "text/html": [
       "<div>\n",
       "<style scoped>\n",
       "    .dataframe tbody tr th:only-of-type {\n",
       "        vertical-align: middle;\n",
       "    }\n",
       "\n",
       "    .dataframe tbody tr th {\n",
       "        vertical-align: top;\n",
       "    }\n",
       "\n",
       "    .dataframe thead th {\n",
       "        text-align: right;\n",
       "    }\n",
       "</style>\n",
       "<table border=\"1\" class=\"dataframe\">\n",
       "  <thead>\n",
       "    <tr style=\"text-align: right;\">\n",
       "      <th></th>\n",
       "      <th>category_list</th>\n",
       "      <th>main_sector</th>\n",
       "    </tr>\n",
       "  </thead>\n",
       "  <tbody>\n",
       "    <tr>\n",
       "      <th>8</th>\n",
       "      <td>Adventure Travel</td>\n",
       "      <td>Automotive &amp; Sports</td>\n",
       "    </tr>\n",
       "    <tr>\n",
       "      <th>14</th>\n",
       "      <td>Aerospace</td>\n",
       "      <td>Automotive &amp; Sports</td>\n",
       "    </tr>\n",
       "    <tr>\n",
       "      <th>45</th>\n",
       "      <td>Auto</td>\n",
       "      <td>Automotive &amp; Sports</td>\n",
       "    </tr>\n",
       "    <tr>\n",
       "      <th>46</th>\n",
       "      <td>Automated Kiosk</td>\n",
       "      <td>Automotive &amp; Sports</td>\n",
       "    </tr>\n",
       "    <tr>\n",
       "      <th>47</th>\n",
       "      <td>Automotive</td>\n",
       "      <td>Automotive &amp; Sports</td>\n",
       "    </tr>\n",
       "    <tr>\n",
       "      <th>...</th>\n",
       "      <td>...</td>\n",
       "      <td>...</td>\n",
       "    </tr>\n",
       "    <tr>\n",
       "      <th>2226</th>\n",
       "      <td>Creative Industries</td>\n",
       "      <td>Entertainment</td>\n",
       "    </tr>\n",
       "    <tr>\n",
       "      <th>2260</th>\n",
       "      <td>Digital Entertainment</td>\n",
       "      <td>Entertainment</td>\n",
       "    </tr>\n",
       "    <tr>\n",
       "      <th>2261</th>\n",
       "      <td>Digital Media</td>\n",
       "      <td>Entertainment</td>\n",
       "    </tr>\n",
       "    <tr>\n",
       "      <th>2262</th>\n",
       "      <td>Digital Rights Ma0gement</td>\n",
       "      <td>Entertainment</td>\n",
       "    </tr>\n",
       "    <tr>\n",
       "      <th>2263</th>\n",
       "      <td>Digital Sig0ge</td>\n",
       "      <td>Entertainment</td>\n",
       "    </tr>\n",
       "  </tbody>\n",
       "</table>\n",
       "<p>100 rows × 2 columns</p>\n",
       "</div>"
      ],
      "text/plain": [
       "                 category_list          main_sector\n",
       "8             Adventure Travel  Automotive & Sports\n",
       "14                   Aerospace  Automotive & Sports\n",
       "45                        Auto  Automotive & Sports\n",
       "46             Automated Kiosk  Automotive & Sports\n",
       "47                  Automotive  Automotive & Sports\n",
       "...                        ...                  ...\n",
       "2226       Creative Industries        Entertainment\n",
       "2260     Digital Entertainment        Entertainment\n",
       "2261             Digital Media        Entertainment\n",
       "2262  Digital Rights Ma0gement        Entertainment\n",
       "2263            Digital Sig0ge        Entertainment\n",
       "\n",
       "[100 rows x 2 columns]"
      ]
     },
     "execution_count": 18,
     "metadata": {},
     "output_type": "execute_result"
    }
   ],
   "source": [
    "mapping = pd.read_csv(\"D:/Disc_von_Wolke/GoogleDrive/UpGrad_ML_AI_coursebook/Submission_Documents/SparkFund_Investment/Downloads_file_Investment_Analysis/mapping.csv\")\n",
    "\n",
    "mapping = pd.melt(mapping, id_vars =['category_list'], value_vars =list(mapping.columns[1:]))  \n",
    "mapping = mapping[~(mapping.value == 0)]\n",
    "mapping = mapping.drop('value', axis = 1)\n",
    "mapping = mapping.rename(columns = {\"variable\":\"main_sector\"})\n",
    "mapping = mapping.dropna() \n",
    "mapping.head(100)"
   ]
  },
  {
   "cell_type": "markdown",
   "metadata": {},
   "source": [
    "<H3>>> A merged data frame with each <font color = 'blue'>primary sector</font> mapped to its <font color = 'red'>main sector</font> </H3>"
   ]
  },
  {
   "cell_type": "code",
   "execution_count": 19,
   "metadata": {},
   "outputs": [
    {
     "data": {
      "text/html": [
       "<div>\n",
       "<style scoped>\n",
       "    .dataframe tbody tr th:only-of-type {\n",
       "        vertical-align: middle;\n",
       "    }\n",
       "\n",
       "    .dataframe tbody tr th {\n",
       "        vertical-align: top;\n",
       "    }\n",
       "\n",
       "    .dataframe thead th {\n",
       "        text-align: right;\n",
       "    }\n",
       "</style>\n",
       "<table border=\"1\" class=\"dataframe\">\n",
       "  <thead>\n",
       "    <tr style=\"text-align: right;\">\n",
       "      <th></th>\n",
       "      <th>permalink</th>\n",
       "      <th>funding_round_permalink</th>\n",
       "      <th>funding_round_type</th>\n",
       "      <th>raised_amount_usd</th>\n",
       "      <th>name</th>\n",
       "      <th>category_list</th>\n",
       "      <th>country_code</th>\n",
       "      <th>primary_sector</th>\n",
       "      <th>main_sector</th>\n",
       "    </tr>\n",
       "  </thead>\n",
       "  <tbody>\n",
       "    <tr>\n",
       "      <th>0</th>\n",
       "      <td>/organization/-fame</td>\n",
       "      <td>/funding-round/9a01d05418af9f794eebff7ace91f638</td>\n",
       "      <td>venture</td>\n",
       "      <td>10000000.0</td>\n",
       "      <td>#fame</td>\n",
       "      <td>Media</td>\n",
       "      <td>IND</td>\n",
       "      <td>Media</td>\n",
       "      <td>Entertainment</td>\n",
       "    </tr>\n",
       "    <tr>\n",
       "      <th>1</th>\n",
       "      <td>/organization/all-def-digital</td>\n",
       "      <td>/funding-round/452a2342fe720285c3b92e9bd927d9ba</td>\n",
       "      <td>venture</td>\n",
       "      <td>5000000.0</td>\n",
       "      <td>All Def Digital</td>\n",
       "      <td>Media</td>\n",
       "      <td>USA</td>\n",
       "      <td>NaN</td>\n",
       "      <td>Entertainment</td>\n",
       "    </tr>\n",
       "    <tr>\n",
       "      <th>2</th>\n",
       "      <td>/organization/anthill-magazine</td>\n",
       "      <td>/funding-round/52128cd405b88f36a85d6cded8359f1c</td>\n",
       "      <td>seed</td>\n",
       "      <td>600000.0</td>\n",
       "      <td>Anthill Magazine</td>\n",
       "      <td>Media</td>\n",
       "      <td>AUS</td>\n",
       "      <td>Real Estate</td>\n",
       "      <td>Entertainment</td>\n",
       "    </tr>\n",
       "    <tr>\n",
       "      <th>3</th>\n",
       "      <td>/organization/attractive-black-singles-llc</td>\n",
       "      <td>/funding-round/231691541eddf75cf54d13a88370dd59</td>\n",
       "      <td>equity_crowdfunding</td>\n",
       "      <td>NaN</td>\n",
       "      <td>Attractive Black Singles LLC</td>\n",
       "      <td>Media</td>\n",
       "      <td>USA</td>\n",
       "      <td>Transportation</td>\n",
       "      <td>Entertainment</td>\n",
       "    </tr>\n",
       "    <tr>\n",
       "      <th>4</th>\n",
       "      <td>/organization/basel-switzerland</td>\n",
       "      <td>/funding-round/ae3c2e82851d1fd6f4ba59ee6d3f0eb2</td>\n",
       "      <td>venture</td>\n",
       "      <td>13439178.0</td>\n",
       "      <td>The Speedel Group</td>\n",
       "      <td>Media</td>\n",
       "      <td>CHE</td>\n",
       "      <td>Hardware + Software</td>\n",
       "      <td>Entertainment</td>\n",
       "    </tr>\n",
       "  </tbody>\n",
       "</table>\n",
       "</div>"
      ],
      "text/plain": [
       "                                    permalink  \\\n",
       "0                         /organization/-fame   \n",
       "1               /organization/all-def-digital   \n",
       "2              /organization/anthill-magazine   \n",
       "3  /organization/attractive-black-singles-llc   \n",
       "4             /organization/basel-switzerland   \n",
       "\n",
       "                           funding_round_permalink   funding_round_type  \\\n",
       "0  /funding-round/9a01d05418af9f794eebff7ace91f638              venture   \n",
       "1  /funding-round/452a2342fe720285c3b92e9bd927d9ba              venture   \n",
       "2  /funding-round/52128cd405b88f36a85d6cded8359f1c                 seed   \n",
       "3  /funding-round/231691541eddf75cf54d13a88370dd59  equity_crowdfunding   \n",
       "4  /funding-round/ae3c2e82851d1fd6f4ba59ee6d3f0eb2              venture   \n",
       "\n",
       "   raised_amount_usd                          name category_list country_code  \\\n",
       "0         10000000.0                         #fame         Media          IND   \n",
       "1          5000000.0               All Def Digital         Media          USA   \n",
       "2           600000.0              Anthill Magazine         Media          AUS   \n",
       "3                NaN  Attractive Black Singles LLC         Media          USA   \n",
       "4         13439178.0             The Speedel Group         Media          CHE   \n",
       "\n",
       "        primary_sector    main_sector  \n",
       "0                Media  Entertainment  \n",
       "1                  NaN  Entertainment  \n",
       "2          Real Estate  Entertainment  \n",
       "3       Transportation  Entertainment  \n",
       "4  Hardware + Software  Entertainment  "
      ]
     },
     "execution_count": 19,
     "metadata": {},
     "output_type": "execute_result"
    }
   ],
   "source": [
    "master_2 = pd.merge(master_frame,mapping,how ='inner',on=\"category_list\")\n",
    "master_2.head(5)"
   ]
  },
  {
   "cell_type": "code",
   "execution_count": 44,
   "metadata": {},
   "outputs": [
    {
     "name": "stdout",
     "output_type": "stream",
     "text": [
      "<class 'pandas.core.frame.DataFrame'>\n",
      "Int64Index: 48883 entries, 0 to 48882\n",
      "Data columns (total 9 columns):\n",
      " #   Column                   Non-Null Count  Dtype  \n",
      "---  ------                   --------------  -----  \n",
      " 0   permalink                48883 non-null  object \n",
      " 1   funding_round_permalink  48883 non-null  object \n",
      " 2   funding_round_type       48883 non-null  object \n",
      " 3   raised_amount_usd        41559 non-null  float64\n",
      " 4   name                     48882 non-null  object \n",
      " 5   category_list            48883 non-null  object \n",
      " 6   country_code             46367 non-null  object \n",
      " 7   primary_sector           27214 non-null  object \n",
      " 8   main_sector              48883 non-null  object \n",
      "dtypes: float64(1), object(8)\n",
      "memory usage: 3.7+ MB\n"
     ]
    }
   ],
   "source": [
    "master_2.info()"
   ]
  },
  {
   "cell_type": "markdown",
   "metadata": {},
   "source": [
    "<H2> Checkpoint 5: Sector Analysis 2 </H2>\n",
    "<H3>>> Defining the conditions:</H3>\n",
    "<H4>>>>The funding type <font color ='blue'>Venture</font>.<br>\n",
    "    >>>The range of funding preferred by Spark Funds is <font color ='green'>5 to 15 million USD</font>.</H4>"
   ]
  },
  {
   "cell_type": "code",
   "execution_count": 20,
   "metadata": {},
   "outputs": [],
   "source": [
    "cond1 = (master_2['funding_round_type']== selected_FT[0])\n",
    "cond2 = (master_2['raised_amount_usd'].apply(lambda x:x >= inv_amt_range[0] and x <= inv_amt_range[1]))"
   ]
  },
  {
   "cell_type": "markdown",
   "metadata": {},
   "source": [
    "<H3> >> Creating three separate data frames <font color ='red'>D1, D2 and D3 </font>for each of the three countries containing the observations of funding type <font color='blue'>Ventue</font> falling within the <font color ='green'>5-15 million USD </font>range.</H3>"
   ]
  },
  {
   "cell_type": "code",
   "execution_count": 21,
   "metadata": {},
   "outputs": [],
   "source": [
    "# Country 1(USA) with Official Language = English\n",
    "D1 = master_2.loc[(master_2['country_code']==top3_countries[0]) & cond1 & cond2]\n",
    "\n",
    "# Country 2(GBR) with Official Language = English\n",
    "D2 = master_2.loc[(master_2['country_code']==top3_countries[1]) & cond1 & cond2]\n",
    "\n",
    "# Country 3(IND) with Official Language = English\n",
    "D3 = master_2.loc[(master_2['country_code']==top3_countries[2]) & cond1 & cond2]"
   ]
  },
  {
   "cell_type": "markdown",
   "metadata": {},
   "source": [
    "<H3>>> Total number of investments (count).<br>\n",
    "    >> Total amount of investment (USD)</H3>"
   ]
  },
  {
   "cell_type": "code",
   "execution_count": 22,
   "metadata": {},
   "outputs": [],
   "source": [
    "# D1 = USA\n",
    "D1_amount = D1.groupby(['main_sector'])['raised_amount_usd'].sum()\n",
    "D1_count = D1.groupby(['main_sector'])['permalink'].count()\n",
    "\n",
    "# D2 = GBR\n",
    "D2_amount = D2.groupby(['main_sector'])['raised_amount_usd'].sum()\n",
    "D2_count = D2.groupby(['main_sector'])['permalink'].count()\n",
    "\n",
    "# D3 = IND\n",
    "D3_amount = D3.groupby(['main_sector'])['raised_amount_usd'].sum()\n",
    "D3_count = D3.groupby(['main_sector'])['permalink'].count()\n"
   ]
  },
  {
   "cell_type": "markdown",
   "metadata": {},
   "source": [
    "<H3> >> Merging <font color='blue'>amount</font> and <font color='red'>count </font>Dataframe to main <font color='green'>Countries</font> Dataframe </H3>\n",
    "\n",
    "<h4> # this dataframes are the final countries dataframes D1, D2 and D3</h4>"
   ]
  },
  {
   "cell_type": "code",
   "execution_count": 23,
   "metadata": {},
   "outputs": [
    {
     "data": {
      "text/html": [
       "<div>\n",
       "<style scoped>\n",
       "    .dataframe tbody tr th:only-of-type {\n",
       "        vertical-align: middle;\n",
       "    }\n",
       "\n",
       "    .dataframe tbody tr th {\n",
       "        vertical-align: top;\n",
       "    }\n",
       "\n",
       "    .dataframe thead th {\n",
       "        text-align: right;\n",
       "    }\n",
       "</style>\n",
       "<table border=\"1\" class=\"dataframe\">\n",
       "  <thead>\n",
       "    <tr style=\"text-align: right;\">\n",
       "      <th></th>\n",
       "      <th>raised_amount_usd</th>\n",
       "      <th>no. of invest</th>\n",
       "    </tr>\n",
       "    <tr>\n",
       "      <th>main_sector</th>\n",
       "      <th></th>\n",
       "      <th></th>\n",
       "    </tr>\n",
       "  </thead>\n",
       "  <tbody>\n",
       "    <tr>\n",
       "      <th>Others</th>\n",
       "      <td>1.849231e+10</td>\n",
       "      <td>2069</td>\n",
       "    </tr>\n",
       "    <tr>\n",
       "      <th>Cleantech / Semiconductors</th>\n",
       "      <td>1.594099e+10</td>\n",
       "      <td>1737</td>\n",
       "    </tr>\n",
       "    <tr>\n",
       "      <th>Health</th>\n",
       "      <td>5.405750e+09</td>\n",
       "      <td>601</td>\n",
       "    </tr>\n",
       "  </tbody>\n",
       "</table>\n",
       "</div>"
      ],
      "text/plain": [
       "                            raised_amount_usd  no. of invest\n",
       "main_sector                                                 \n",
       "Others                           1.849231e+10           2069\n",
       "Cleantech / Semiconductors       1.594099e+10           1737\n",
       "Health                           5.405750e+09            601"
      ]
     },
     "execution_count": 23,
     "metadata": {},
     "output_type": "execute_result"
    }
   ],
   "source": [
    "# merged amount and counts to D1 (USA) \n",
    "# top 3 sectors as per number of investment\n",
    "D_ca1 = pd.merge(D1_amount,D1_count,on = 'main_sector',how='inner').sort_values(by='permalink',ascending=False).rename(columns = {'permalink':'no. of invest'})\n",
    "D1 = pd.merge(D1,D_ca1,how='inner',on='main_sector')\n",
    "D1.rename(columns = {'permalink_y':'counts','permalink_x':'permalink','raised_amount_usd_x':'raised_amount_usd','raised_amount_usd_y':'sum_amount'}, inplace = True)\n",
    "D_ca1.head(3)"
   ]
  },
  {
   "cell_type": "code",
   "execution_count": 24,
   "metadata": {},
   "outputs": [
    {
     "data": {
      "text/html": [
       "<div>\n",
       "<style scoped>\n",
       "    .dataframe tbody tr th:only-of-type {\n",
       "        vertical-align: middle;\n",
       "    }\n",
       "\n",
       "    .dataframe tbody tr th {\n",
       "        vertical-align: top;\n",
       "    }\n",
       "\n",
       "    .dataframe thead th {\n",
       "        text-align: right;\n",
       "    }\n",
       "</style>\n",
       "<table border=\"1\" class=\"dataframe\">\n",
       "  <thead>\n",
       "    <tr style=\"text-align: right;\">\n",
       "      <th></th>\n",
       "      <th>raised_amount_usd</th>\n",
       "      <th>no. of invest</th>\n",
       "    </tr>\n",
       "    <tr>\n",
       "      <th>main_sector</th>\n",
       "      <th></th>\n",
       "      <th></th>\n",
       "    </tr>\n",
       "  </thead>\n",
       "  <tbody>\n",
       "    <tr>\n",
       "      <th>Cleantech / Semiconductors</th>\n",
       "      <td>942829246.0</td>\n",
       "      <td>107</td>\n",
       "    </tr>\n",
       "    <tr>\n",
       "      <th>Others</th>\n",
       "      <td>931205523.0</td>\n",
       "      <td>106</td>\n",
       "    </tr>\n",
       "    <tr>\n",
       "      <th>News, Search and Messaging</th>\n",
       "      <td>274140008.0</td>\n",
       "      <td>31</td>\n",
       "    </tr>\n",
       "  </tbody>\n",
       "</table>\n",
       "</div>"
      ],
      "text/plain": [
       "                            raised_amount_usd  no. of invest\n",
       "main_sector                                                 \n",
       "Cleantech / Semiconductors        942829246.0            107\n",
       "Others                            931205523.0            106\n",
       "News, Search and Messaging        274140008.0             31"
      ]
     },
     "execution_count": 24,
     "metadata": {},
     "output_type": "execute_result"
    }
   ],
   "source": [
    "# merged amount and counts to D1 (GBR) \n",
    "# top 3 sectors as per number of investment\n",
    "D_ca2 = pd.merge(D2_amount,D2_count,on = 'main_sector',how='inner').sort_values(by='permalink',ascending=False).rename(columns = {'permalink':'no. of invest'})\n",
    "D2 = pd.merge(D2,D_ca2,on='main_sector',how='inner')\n",
    "D2.rename(columns = {'permalink_y':'counts','permalink_x':'permalink','raised_amount_usd_x':'raised_amount_usd','raised_amount_usd_y':'sum_amount'}, inplace = True) \n",
    "D_ca2.head(3)"
   ]
  },
  {
   "cell_type": "code",
   "execution_count": 25,
   "metadata": {},
   "outputs": [
    {
     "data": {
      "text/html": [
       "<div>\n",
       "<style scoped>\n",
       "    .dataframe tbody tr th:only-of-type {\n",
       "        vertical-align: middle;\n",
       "    }\n",
       "\n",
       "    .dataframe tbody tr th {\n",
       "        vertical-align: top;\n",
       "    }\n",
       "\n",
       "    .dataframe thead th {\n",
       "        text-align: right;\n",
       "    }\n",
       "</style>\n",
       "<table border=\"1\" class=\"dataframe\">\n",
       "  <thead>\n",
       "    <tr style=\"text-align: right;\">\n",
       "      <th></th>\n",
       "      <th>raised_amount_usd</th>\n",
       "      <th>no. of invest</th>\n",
       "    </tr>\n",
       "    <tr>\n",
       "      <th>main_sector</th>\n",
       "      <th></th>\n",
       "      <th></th>\n",
       "    </tr>\n",
       "  </thead>\n",
       "  <tbody>\n",
       "    <tr>\n",
       "      <th>Others</th>\n",
       "      <td>675169507.0</td>\n",
       "      <td>74</td>\n",
       "    </tr>\n",
       "    <tr>\n",
       "      <th>News, Search and Messaging</th>\n",
       "      <td>267118770.0</td>\n",
       "      <td>31</td>\n",
       "    </tr>\n",
       "    <tr>\n",
       "      <th>Entertainment</th>\n",
       "      <td>156150000.0</td>\n",
       "      <td>19</td>\n",
       "    </tr>\n",
       "  </tbody>\n",
       "</table>\n",
       "</div>"
      ],
      "text/plain": [
       "                            raised_amount_usd  no. of invest\n",
       "main_sector                                                 \n",
       "Others                            675169507.0             74\n",
       "News, Search and Messaging        267118770.0             31\n",
       "Entertainment                     156150000.0             19"
      ]
     },
     "execution_count": 25,
     "metadata": {},
     "output_type": "execute_result"
    }
   ],
   "source": [
    "# merged amount and counts to D1 (GBR) \n",
    "# top 3 sectors as per number of investment \n",
    "D_ca3 = pd.merge(D3_amount,D3_count,on = 'main_sector',how='inner').sort_values(by='permalink',ascending=False).rename(columns = {'permalink':'no. of invest'})\n",
    "D3= pd.merge(D3,D_ca3,on='main_sector',how='inner')\n",
    "D3.rename(columns = {'permalink_y':'counts','permalink_x':'permalink','raised_amount_usd_x':'raised_amount_usd','raised_amount_usd_y':'sum_amount'}, inplace = True) \n",
    "D_ca3.head(3)"
   ]
  },
  {
   "cell_type": "markdown",
   "metadata": {},
   "source": [
    "<H3>>> Finding <font color='red'>Top 3 companies </font> based on <font color='red'> Top 3 Sectors </font> in individual <font color ='green'>Countries</font></H3>"
   ]
  },
  {
   "cell_type": "code",
   "execution_count": 26,
   "metadata": {},
   "outputs": [
    {
     "data": {
      "text/plain": [
       "[['Others', 'Cleantech / Semiconductors', 'Health'],\n",
       " ['Cleantech / Semiconductors', 'Others', 'News, Search and Messaging'],\n",
       " ['Others', 'News, Search and Messaging', 'Entertainment']]"
      ]
     },
     "execution_count": 26,
     "metadata": {},
     "output_type": "execute_result"
    }
   ],
   "source": [
    "# Creating list of Top-3 sectors for each country\n",
    "sectors_D1 = list(D_ca1.head(3).index) #USA\n",
    "sectors_D2 = list(D_ca2.head(3).index) #GBR\n",
    "sectors_D3 = list(D_ca3.head(3).index) #IND\n",
    "\n",
    "list([sectors_D1,sectors_D2,sectors_D3])"
   ]
  },
  {
   "cell_type": "markdown",
   "metadata": {},
   "source": [
    "<H3> >> <font color='red'>Top 3 companies </font> based on <font color='red'> Top 3 Sectors </font> of <font color='green'> Country-1 </font></H3>"
   ]
  },
  {
   "cell_type": "code",
   "execution_count": 27,
   "metadata": {
    "scrolled": true
   },
   "outputs": [
    {
     "data": {
      "text/html": [
       "<div>\n",
       "<style scoped>\n",
       "    .dataframe tbody tr th:only-of-type {\n",
       "        vertical-align: middle;\n",
       "    }\n",
       "\n",
       "    .dataframe tbody tr th {\n",
       "        vertical-align: top;\n",
       "    }\n",
       "\n",
       "    .dataframe thead th {\n",
       "        text-align: right;\n",
       "    }\n",
       "</style>\n",
       "<table border=\"1\" class=\"dataframe\">\n",
       "  <thead>\n",
       "    <tr style=\"text-align: right;\">\n",
       "      <th></th>\n",
       "      <th>Others</th>\n",
       "      <th>Cleantech / Semiconductors</th>\n",
       "      <th>Health</th>\n",
       "    </tr>\n",
       "    <tr>\n",
       "      <th>name</th>\n",
       "      <th></th>\n",
       "      <th></th>\n",
       "      <th></th>\n",
       "    </tr>\n",
       "  </thead>\n",
       "  <tbody>\n",
       "    <tr>\n",
       "      <th>Virtustream</th>\n",
       "      <td>64300000.0</td>\n",
       "      <td>NaN</td>\n",
       "      <td>NaN</td>\n",
       "    </tr>\n",
       "    <tr>\n",
       "      <th>Tigo Energy</th>\n",
       "      <td>NaN</td>\n",
       "      <td>68739496.0</td>\n",
       "      <td>NaN</td>\n",
       "    </tr>\n",
       "    <tr>\n",
       "      <th>EndoGastric Solutions</th>\n",
       "      <td>NaN</td>\n",
       "      <td>NaN</td>\n",
       "      <td>67896724.0</td>\n",
       "    </tr>\n",
       "  </tbody>\n",
       "</table>\n",
       "</div>"
      ],
      "text/plain": [
       "                           Others  Cleantech / Semiconductors      Health\n",
       "name                                                                     \n",
       "Virtustream            64300000.0                         NaN         NaN\n",
       "Tigo Energy                   NaN                  68739496.0         NaN\n",
       "EndoGastric Solutions         NaN                         NaN  67896724.0"
      ]
     },
     "execution_count": 27,
     "metadata": {},
     "output_type": "execute_result"
    }
   ],
   "source": [
    "D1_top_company = D1 # duplicating dataframe to assure no change in main frame D1\n",
    "\n",
    "# Top Sector Top Company\n",
    "Top_Sector = D1_top_company.loc[D1_top_company['main_sector']==(sectors_D1[0])]\n",
    "Top_Sector = pd.DataFrame(Top_Sector.groupby(['name'])['raised_amount_usd'].sum())\n",
    "Top_Sector.rename(columns={'raised_amount_usd':sectors_D1[0]},inplace=True)\n",
    "Top_Sector = Top_Sector.sort_values(by=[sectors_D1[0]],ascending=False).head(1)\n",
    "\n",
    "# Second Sector Top Company\n",
    "Second_Sector = D1_top_company.loc[D1_top_company['main_sector']==(sectors_D1[1])]\n",
    "Second_Sector = pd.DataFrame(Second_Sector.groupby(['name'])['raised_amount_usd'].sum())\n",
    "Second_Sector.rename(columns={'raised_amount_usd':sectors_D1[1]},inplace=True)\n",
    "Second_Sector = Second_Sector.sort_values(by=[sectors_D1[1]],ascending=False).head(1)\n",
    "\n",
    "# Third Sector Top Company\n",
    "Third_Sector = D1_top_company.loc[D1_top_company['main_sector']==(sectors_D1[2])]\n",
    "Third_Sector = pd.DataFrame(Third_Sector.groupby(['name'])['raised_amount_usd'].sum())\n",
    "Third_Sector.rename(columns={'raised_amount_usd':sectors_D1[2]},inplace=True)\n",
    "Third_Sector = Third_Sector.sort_values(by=[sectors_D1[2]],ascending=False).head(1)\n",
    "\n",
    "# Dataframe consisting of Top-3 Companies of Top-3 Sectors of Country-1\n",
    "D1_Table_5_df = pd.concat([Top_Sector,Second_Sector,Third_Sector])\n",
    "\n",
    "D1_Table_5_df # values in each column is the total investment amount (USD) invested in each company."
   ]
  },
  {
   "cell_type": "markdown",
   "metadata": {},
   "source": [
    "<H3> >> <font color='red'>Top 3 companies </font> based on <font color='red'> Top 3 Sectors </font> of <font color='green'> Country-2 </font></H3>"
   ]
  },
  {
   "cell_type": "code",
   "execution_count": 28,
   "metadata": {},
   "outputs": [
    {
     "data": {
      "text/html": [
       "<div>\n",
       "<style scoped>\n",
       "    .dataframe tbody tr th:only-of-type {\n",
       "        vertical-align: middle;\n",
       "    }\n",
       "\n",
       "    .dataframe tbody tr th {\n",
       "        vertical-align: top;\n",
       "    }\n",
       "\n",
       "    .dataframe thead th {\n",
       "        text-align: right;\n",
       "    }\n",
       "</style>\n",
       "<table border=\"1\" class=\"dataframe\">\n",
       "  <thead>\n",
       "    <tr style=\"text-align: right;\">\n",
       "      <th></th>\n",
       "      <th>Cleantech / Semiconductors</th>\n",
       "      <th>Others</th>\n",
       "      <th>News, Search and Messaging</th>\n",
       "    </tr>\n",
       "    <tr>\n",
       "      <th>name</th>\n",
       "      <th></th>\n",
       "      <th></th>\n",
       "      <th></th>\n",
       "    </tr>\n",
       "  </thead>\n",
       "  <tbody>\n",
       "    <tr>\n",
       "      <th>EUSA Pharma</th>\n",
       "      <td>35600000.0</td>\n",
       "      <td>NaN</td>\n",
       "      <td>NaN</td>\n",
       "    </tr>\n",
       "    <tr>\n",
       "      <th>Electric Cloud</th>\n",
       "      <td>NaN</td>\n",
       "      <td>37000000.0</td>\n",
       "      <td>NaN</td>\n",
       "    </tr>\n",
       "    <tr>\n",
       "      <th>Ubiquisys</th>\n",
       "      <td>NaN</td>\n",
       "      <td>NaN</td>\n",
       "      <td>37000000.0</td>\n",
       "    </tr>\n",
       "  </tbody>\n",
       "</table>\n",
       "</div>"
      ],
      "text/plain": [
       "                Cleantech / Semiconductors      Others  \\\n",
       "name                                                     \n",
       "EUSA Pharma                     35600000.0         NaN   \n",
       "Electric Cloud                         NaN  37000000.0   \n",
       "Ubiquisys                              NaN         NaN   \n",
       "\n",
       "                News, Search and Messaging  \n",
       "name                                        \n",
       "EUSA Pharma                            NaN  \n",
       "Electric Cloud                         NaN  \n",
       "Ubiquisys                       37000000.0  "
      ]
     },
     "execution_count": 28,
     "metadata": {},
     "output_type": "execute_result"
    }
   ],
   "source": [
    "D2_top_company = D2 # duplicating dataframe to assure no change in main frame D2\n",
    "\n",
    "# Top Sector Top Company\n",
    "Top_Sector = D2_top_company.loc[D2_top_company['main_sector']==(sectors_D2[0])]\n",
    "Top_Sector = pd.DataFrame(Top_Sector.groupby(['name'])['raised_amount_usd'].sum())\n",
    "Top_Sector.rename(columns={'raised_amount_usd':sectors_D2[0]},inplace=True)\n",
    "Top_Sector = Top_Sector.sort_values(by=[sectors_D2[0]],ascending=False).head(1)\n",
    "\n",
    "# Second Sector Top Company\n",
    "Second_Sector = D2_top_company.loc[D2_top_company['main_sector']==(sectors_D2[1])]\n",
    "Second_Sector = pd.DataFrame(Second_Sector.groupby(['name'])['raised_amount_usd'].sum())\n",
    "Second_Sector.rename(columns={'raised_amount_usd':sectors_D2[1]},inplace=True)\n",
    "Second_Sector = Second_Sector.sort_values(by=[sectors_D2[1]],ascending=False).head(1)\n",
    "\n",
    "# Third Sector Top Company\n",
    "Third_Sector = D2_top_company.loc[D2_top_company['main_sector']==(sectors_D2[2])]\n",
    "Third_Sector = pd.DataFrame(Third_Sector.groupby(['name'])['raised_amount_usd'].sum())\n",
    "Third_Sector.rename(columns={'raised_amount_usd':sectors_D2[2]},inplace=True)\n",
    "Third_Sector = Third_Sector.sort_values(by=[sectors_D2[2]],ascending=False).head(1)\n",
    "\n",
    "# Dataframe consisting of Top-3 Companies of Top-3 Sectors of Country-1\n",
    "D2_Table_5_df = pd.concat([Top_Sector,Second_Sector,Third_Sector])\n",
    "\n",
    "D2_Table_5_df # values in each column is the total investment amount (USD) invested in each company."
   ]
  },
  {
   "cell_type": "markdown",
   "metadata": {},
   "source": [
    "<H3> >> <font color='red'>Top 3 companies </font> based on <font color='red'> Top 3 Sectors </font> of <font color='green'> Country-3 </font></H3>"
   ]
  },
  {
   "cell_type": "code",
   "execution_count": 29,
   "metadata": {},
   "outputs": [
    {
     "data": {
      "text/html": [
       "<div>\n",
       "<style scoped>\n",
       "    .dataframe tbody tr th:only-of-type {\n",
       "        vertical-align: middle;\n",
       "    }\n",
       "\n",
       "    .dataframe tbody tr th {\n",
       "        vertical-align: top;\n",
       "    }\n",
       "\n",
       "    .dataframe thead th {\n",
       "        text-align: right;\n",
       "    }\n",
       "</style>\n",
       "<table border=\"1\" class=\"dataframe\">\n",
       "  <thead>\n",
       "    <tr style=\"text-align: right;\">\n",
       "      <th></th>\n",
       "      <th>Others</th>\n",
       "      <th>News, Search and Messaging</th>\n",
       "      <th>Entertainment</th>\n",
       "    </tr>\n",
       "    <tr>\n",
       "      <th>name</th>\n",
       "      <th></th>\n",
       "      <th></th>\n",
       "      <th></th>\n",
       "    </tr>\n",
       "  </thead>\n",
       "  <tbody>\n",
       "    <tr>\n",
       "      <th>FirstCry.com</th>\n",
       "      <td>39000000.0</td>\n",
       "      <td>NaN</td>\n",
       "      <td>NaN</td>\n",
       "    </tr>\n",
       "    <tr>\n",
       "      <th>GupShup</th>\n",
       "      <td>NaN</td>\n",
       "      <td>33000000.0</td>\n",
       "      <td>NaN</td>\n",
       "    </tr>\n",
       "    <tr>\n",
       "      <th>Yatra</th>\n",
       "      <td>NaN</td>\n",
       "      <td>NaN</td>\n",
       "      <td>19500000.0</td>\n",
       "    </tr>\n",
       "  </tbody>\n",
       "</table>\n",
       "</div>"
      ],
      "text/plain": [
       "                  Others  News, Search and Messaging  Entertainment\n",
       "name                                                               \n",
       "FirstCry.com  39000000.0                         NaN            NaN\n",
       "GupShup              NaN                  33000000.0            NaN\n",
       "Yatra                NaN                         NaN     19500000.0"
      ]
     },
     "execution_count": 29,
     "metadata": {},
     "output_type": "execute_result"
    }
   ],
   "source": [
    "D3_top_company = D3 # duplicating dataframe to assure no change in main frame D3\n",
    "\n",
    "# Top Sector Top Company\n",
    "Top_Sector = D3_top_company.loc[D3_top_company['main_sector']==(sectors_D3[0])]\n",
    "Top_Sector = pd.DataFrame(Top_Sector.groupby(['name'])['raised_amount_usd'].sum())\n",
    "Top_Sector.rename(columns={'raised_amount_usd':sectors_D3[0]},inplace=True)\n",
    "Top_Sector = Top_Sector.sort_values(by=[sectors_D3[0]],ascending=False).head(1)\n",
    "\n",
    "# Second Sector Top Company\n",
    "Second_Sector = D3_top_company.loc[D3_top_company['main_sector']==(sectors_D3[1])]\n",
    "Second_Sector = pd.DataFrame(Second_Sector.groupby(['name'])['raised_amount_usd'].sum())\n",
    "Second_Sector.rename(columns={'raised_amount_usd':sectors_D3[1]},inplace=True)\n",
    "Second_Sector = Second_Sector.sort_values(by=[sectors_D3[1]],ascending=False).head(1)\n",
    "Second_Sector.head(100)\n",
    "\n",
    "# Third Sector Top Company\n",
    "Third_Sector = D3_top_company.loc[D3_top_company['main_sector']==(sectors_D3[2])]\n",
    "Third_Sector = pd.DataFrame(Third_Sector.groupby(['name'])['raised_amount_usd'].sum())\n",
    "Third_Sector.rename(columns={'raised_amount_usd':sectors_D3[2]},inplace=True)\n",
    "Third_Sector = Third_Sector.sort_values(by=[sectors_D3[2]],ascending=False).head(1)\n",
    "\n",
    "# Dataframe consisting of Top-3 Companies of Top-3 Sectors of Country-1\n",
    "D3_Table_5_df = pd.concat([Top_Sector,Second_Sector,Third_Sector])\n",
    "\n",
    "D3_Table_5_df # values in each column is the total investment amount (USD) invested in each company."
   ]
  },
  {
   "cell_type": "code",
   "execution_count": 30,
   "metadata": {},
   "outputs": [
    {
     "data": {
      "text/plain": [
       "[Index(['Virtustream', 'Tigo Energy', 'EndoGastric Solutions'], dtype='object', name='name'),\n",
       " Index(['EUSA Pharma', 'Electric Cloud', 'Ubiquisys'], dtype='object', name='name'),\n",
       " Index(['FirstCry.com', 'GupShup', 'Yatra'], dtype='object', name='name')]"
      ]
     },
     "execution_count": 30,
     "metadata": {},
     "output_type": "execute_result"
    }
   ],
   "source": [
    "# Creating list of top3 companies with top 3 sectors from top 3 countries\n",
    "companies = list([D1_Table_5_df.index,D2_Table_5_df.index,D3_Table_5_df.index])\n",
    "companies"
   ]
  },
  {
   "cell_type": "markdown",
   "metadata": {},
   "source": [
    "***\n",
    "<H2> Checkpoint 6: Plots </H2>\n",
    "<H3> >> <font color='blue'>Fraction</font> of total investments (globally) in <font color='red'>angel, venture, seed, and private equity</font> </H3>"
   ]
  },
  {
   "cell_type": "code",
   "execution_count": 31,
   "metadata": {},
   "outputs": [
    {
     "data": {
      "text/html": [
       "<div>\n",
       "<style scoped>\n",
       "    .dataframe tbody tr th:only-of-type {\n",
       "        vertical-align: middle;\n",
       "    }\n",
       "\n",
       "    .dataframe tbody tr th {\n",
       "        vertical-align: top;\n",
       "    }\n",
       "\n",
       "    .dataframe thead th {\n",
       "        text-align: right;\n",
       "    }\n",
       "</style>\n",
       "<table border=\"1\" class=\"dataframe\">\n",
       "  <thead>\n",
       "    <tr style=\"text-align: right;\">\n",
       "      <th></th>\n",
       "      <th>raised_amount_usd</th>\n",
       "      <th>fraction</th>\n",
       "    </tr>\n",
       "    <tr>\n",
       "      <th>funding_round_type</th>\n",
       "      <th></th>\n",
       "      <th></th>\n",
       "    </tr>\n",
       "  </thead>\n",
       "  <tbody>\n",
       "    <tr>\n",
       "      <th>venture</th>\n",
       "      <td>5.901262e+11</td>\n",
       "      <td>0.596013</td>\n",
       "    </tr>\n",
       "    <tr>\n",
       "      <th>angel</th>\n",
       "      <td>4.659255e+09</td>\n",
       "      <td>0.004706</td>\n",
       "    </tr>\n",
       "    <tr>\n",
       "      <th>seed</th>\n",
       "      <td>1.698824e+10</td>\n",
       "      <td>0.017158</td>\n",
       "    </tr>\n",
       "    <tr>\n",
       "      <th>private_equity</th>\n",
       "      <td>1.419254e+11</td>\n",
       "      <td>0.143341</td>\n",
       "    </tr>\n",
       "  </tbody>\n",
       "</table>\n",
       "</div>"
      ],
      "text/plain": [
       "                    raised_amount_usd  fraction\n",
       "funding_round_type                             \n",
       "venture                  5.901262e+11  0.596013\n",
       "angel                    4.659255e+09  0.004706\n",
       "seed                     1.698824e+10  0.017158\n",
       "private_equity           1.419254e+11  0.143341"
      ]
     },
     "execution_count": 31,
     "metadata": {},
     "output_type": "execute_result"
    }
   ],
   "source": [
    "fraction_df = master_frame # Creating copy of master frame\n",
    "\n",
    "# calculating the number of investment for each funding types\n",
    "# fraction_df = pd.DataFrame(fraction_df.groupby(['funding_round_type'])['permalink'].count())\n",
    "fraction_df = pd.DataFrame(fraction_df.groupby(['funding_round_type'])['raised_amount_usd'].sum())\n",
    "total = fraction_df['raised_amount_usd'].sum()\n",
    "# Calculating the fraction of total investments (globaly) in each selected funding types\n",
    "fraction_df['fraction'] = fraction_df.div(fraction_df.sum())\n",
    "fraction_df = fraction_df.loc[sel_fund_round_types]\n",
    "fraction_df.head(10)"
   ]
  },
  {
   "cell_type": "markdown",
   "metadata": {},
   "source": [
    "<H3> >> A plot showing the <font color='blue'>Fraction</font> of total investments (globally) in <font color='red'>angel, venture, seed, and private equity</font> , and the <font color='blue'>average amount</font> of investment in each <font color='red'>funding type</font>.</H3>"
   ]
  },
  {
   "cell_type": "code",
   "execution_count": 32,
   "metadata": {},
   "outputs": [
    {
     "data": {
      "image/png": "[encoded data removed]",
      "text/plain": [
       "<Figure size 1080x576 with 2 Axes>"
      ]
     },
     "metadata": {
      "needs_background": "light"
     },
     "output_type": "display_data"
    }
   ],
   "source": [
    "# Creating figure and subplots\n",
    "fig1,axes1 = plt.subplots(figsize=(15,8),nrows = 1,ncols = 2)\n",
    "\n",
    "# Plot showing the fraction(%) of total investments (globally) in angel, venture, seed, and private equity\n",
    "fraction_df['fraction'].mul(100).plot(ax = axes1[0],color='aqua', kind = 'bar',grid=True,title='Fraction of total investments (globally)',legend=True) \n",
    "\n",
    "# creating label of values \n",
    "# here offset values are added with mathematical operators for better graphical visuals\n",
    "y = list(round(fraction_df['fraction']*100,2))\n",
    "for index, value in enumerate(y):\n",
    "    axes1[0].text(index-0.15, value+0.5, str(value)+'%',size=15)\n",
    "    \n",
    "axes1[0].set_ylabel(\" Fraction (%)\",size=15)\n",
    "axes1[0].set_xlabel(\" Funding Types \",size=15)\n",
    "axes1[0].set_title(\" Fraction of total investments against Funding Types \",size=15)\n",
    "#--------------------------------------------------------------------------------------------------------------------  \n",
    "# Plot showing the average amount of investment in each funding type    \n",
    "FTA_df['mean'].plot(ax=axes1[1],color='green',kind='bar', grid=True,legend=True,label='Million USD')\n",
    "\n",
    "# creating label of values \n",
    "# here offset values are added with mathematical operators to alingn \"values as text\" for better graphical visuals\n",
    "y1 = list(FTA_df['mean'])\n",
    "for index1, value1 in enumerate(y1):\n",
    "    axes1[1].text(index1-0.30,value1+1E6, str(round((value1/1E6),2))+\" M USD\",size=13)\n",
    "    # markers for allowable range 5-15 million USD\n",
    "    axes1[1].text(index1-0.50,inv_amt_range[0],str('-----------'),color='purple',size=30)\n",
    "    axes1[1].text(index1-0.50,inv_amt_range[1],str('-----------'),color='purple',size=30)\n",
    "\n",
    "# Adding a text describing the range of 5-15 million USD\n",
    "axes1[1].text(0.5,(inv_amt_range[0]+inv_amt_range[1])/2,str(inv_amt_range[0]/1E6)+' to '+str(inv_amt_range[1]/1E6)+'M USD',color='purple',size=25)\n",
    "\n",
    "axes1[1].set_ylabel(\" Investment Amount (USD x 1^7)\",size=15)\n",
    "axes1[1].set_xlabel(\"Funding Types \",size=15)\n",
    "axes1[1].set_title(\"Average amount of investment in each funding type\",size=15)\n",
    "\n",
    "fig1.tight_layout()"
   ]
  },
  {
   "cell_type": "markdown",
   "metadata": {},
   "source": [
    "<H3> >> A plot showing the <font color='red'>top 9 countries </font> against the total amount of investments of funding type :<font color='blue'>Venture</font> </H3>"
   ]
  },
  {
   "cell_type": "code",
   "execution_count": 33,
   "metadata": {
    "slideshow": {
     "slide_type": "-"
    }
   },
   "outputs": [
    {
     "data": {
      "image/png": "[encoded data removed]",
      "text/plain": [
       "<Figure size 1080x576 with 1 Axes>"
      ]
     },
     "metadata": {
      "needs_background": "light"
     },
     "output_type": "display_data"
    }
   ],
   "source": [
    "fig2,axes2 = plt.subplots(figsize=(15,8))\n",
    "\n",
    "# Plotting \n",
    "top9[\"raised_amount_usd\"].head(9).plot(ax=axes2,kind='bar', color='green',grid=True,legend=True,label='Billion USD')\n",
    "top9 = top9.head(9)\n",
    "\n",
    "# creating label of values \n",
    "# here offset values are added with mathematical operators to alingn \"values as text\" for better graphical visuals\n",
    "y2 = list(top9['raised_amount_usd'])\n",
    "for index2, value2 in enumerate(y2):\n",
    "    axes2.text(index2-0.30,value2+5E9, str(round(value2/1E9,2))+\" B USD\",size=15)\n",
    "axes2.set_ylabel(\" total amount of investments (USD x 1^11)\",size=15)\n",
    "axes2.set_xlabel(\" Countries \",size=15)\n",
    "axes2.set_title(\" The top 9 countries against the total investments for the investment type : Venture \",size=15)\n",
    "\n",
    "fig2.tight_layout()"
   ]
  },
  {
   "cell_type": "markdown",
   "metadata": {},
   "source": [
    "<H3> >> Creating a dataframe of the number of investments in the <font color='red'>top 3 sectors</font> of the <font color='red'>top 3 countries</font> on one chart (for the chosen investment type : <font color =' blue'> Venture </font>). </H3>"
   ]
  },
  {
   "cell_type": "code",
   "execution_count": 34,
   "metadata": {},
   "outputs": [
    {
     "data": {
      "text/html": [
       "<div>\n",
       "<style scoped>\n",
       "    .dataframe tbody tr th:only-of-type {\n",
       "        vertical-align: middle;\n",
       "    }\n",
       "\n",
       "    .dataframe tbody tr th {\n",
       "        vertical-align: top;\n",
       "    }\n",
       "\n",
       "    .dataframe thead th {\n",
       "        text-align: right;\n",
       "    }\n",
       "</style>\n",
       "<table border=\"1\" class=\"dataframe\">\n",
       "  <thead>\n",
       "    <tr style=\"text-align: right;\">\n",
       "      <th></th>\n",
       "      <th>country</th>\n",
       "      <th>main_sector</th>\n",
       "      <th>counts</th>\n",
       "    </tr>\n",
       "  </thead>\n",
       "  <tbody>\n",
       "    <tr>\n",
       "      <th>2816</th>\n",
       "      <td>USA</td>\n",
       "      <td>Others</td>\n",
       "      <td>2069</td>\n",
       "    </tr>\n",
       "    <tr>\n",
       "      <th>4553</th>\n",
       "      <td>USA</td>\n",
       "      <td>Cleantech / Semiconductors</td>\n",
       "      <td>1737</td>\n",
       "    </tr>\n",
       "    <tr>\n",
       "      <th>5154</th>\n",
       "      <td>USA</td>\n",
       "      <td>Health</td>\n",
       "      <td>601</td>\n",
       "    </tr>\n",
       "    <tr>\n",
       "      <th>30</th>\n",
       "      <td>GBR</td>\n",
       "      <td>News, Search and Messaging</td>\n",
       "      <td>31</td>\n",
       "    </tr>\n",
       "    <tr>\n",
       "      <th>136</th>\n",
       "      <td>GBR</td>\n",
       "      <td>Others</td>\n",
       "      <td>106</td>\n",
       "    </tr>\n",
       "  </tbody>\n",
       "</table>\n",
       "</div>"
      ],
      "text/plain": [
       "     country                 main_sector  counts\n",
       "2816     USA                      Others    2069\n",
       "4553     USA  Cleantech / Semiconductors    1737\n",
       "5154     USA                      Health     601\n",
       "30       GBR  News, Search and Messaging      31\n",
       "136      GBR                      Others     106"
      ]
     },
     "execution_count": 34,
     "metadata": {},
     "output_type": "execute_result"
    }
   ],
   "source": [
    "# Filtering the main Countries DataFrame with selected top 3 sectors\n",
    "filter_D1 = D1[D1['main_sector'].isin(sectors_D1)]\n",
    "filter_D2 = D2[D2['main_sector'].isin(sectors_D2)]\n",
    "filter_D3 = D3[D3['main_sector'].isin(sectors_D3)]\n",
    "\n",
    "# Creating a concated DataFrame of countries with filtered sectors\n",
    "top_3C = pd.concat([filter_D1,filter_D2,filter_D3])\n",
    "\n",
    "# Creating a final dataframe of top 3 countries with their top 3 respective sectors\n",
    "final_df = pd.DataFrame({'country':top_3C.country_code,'main_sector': top_3C.main_sector,'counts': top_3C['no. of invest']})\n",
    "\n",
    "# Dropping duplicates in final_df and keeping the last rows withing duplicates\n",
    "final_df.drop_duplicates(keep=\"last\",inplace=True)\n",
    "final_df.head()"
   ]
  },
  {
   "cell_type": "markdown",
   "metadata": {},
   "source": [
    "<H3> >> A plot showing the number of investments in the <font color='red'>top 3 sectors</font> of the <font color='red'>top 3 countries</font> on one chart (for the chosen investment type : <font color =' blue'> Venture </font>). </H3>"
   ]
  },
  {
   "cell_type": "code",
   "execution_count": 45,
   "metadata": {},
   "outputs": [
    {
     "data": {
      "image/png": "[encoded data removed]",
      "text/plain": [
       "<Figure size 1080x360 with 1 Axes>"
      ]
     },
     "metadata": {
      "needs_background": "light"
     },
     "output_type": "display_data"
    }
   ],
   "source": [
    "# Creating figure and subplots\n",
    "fig3,axes3 = plt.subplots(figsize=(15,5))\n",
    "\n",
    "# Creating pivot table and plotting it\n",
    "final_df.pivot(index='main_sector', columns='country', values= 'counts').plot(kind='bar',grid = 1,ax=axes3,title =' Number of investments in the top 3 sectors of the top 3 countries')\n",
    "\n",
    "axes3.set_ylabel(\" Number of investments \",size=15)\n",
    "axes3.set_xlabel(\" Countries \",size=15)\n",
    "axes3.set_title(\" Number of investments in the top 3 sectors of the top 3 countries\",size=15)\n",
    "\n",
    "fig3.tight_layout()"
   ]
  },
  {
   "cell_type": "markdown",
   "metadata": {},
   "source": [
    "<H1> ~ End of Assignment ~</H1>\n",
    "\n",
    "***"
   ]
  }
 ],
 "metadata": {
  "celltoolbar": "Slideshow",
  "kernelspec": {
   "display_name": "Python 3",
   "language": "python",
   "name": "python3"
  },
  "language_info": {
   "codemirror_mode": {
    "name": "ipython",
    "version": 3
   },
   "file_extension": ".py",
   "mimetype": "text/x-python",
   "name": "python",
   "nbconvert_exporter": "python",
   "pygments_lexer": "ipython3",
   "version": "3.7.6"
  }
 },
 "nbformat": 4,
 "nbformat_minor": 4
}
